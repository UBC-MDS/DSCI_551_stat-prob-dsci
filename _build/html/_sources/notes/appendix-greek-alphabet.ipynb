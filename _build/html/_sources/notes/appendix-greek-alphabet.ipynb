{
 "cells": [
  {
   "cell_type": "markdown",
   "id": "aeed2cc9",
   "metadata": {
    "editable": true,
    "slideshow": {
     "slide_type": ""
    },
    "tags": []
   },
   "source": [
    "# Greek Alphabet"
   ]
  },
  {
   "cell_type": "markdown",
   "id": "8d628a93",
   "metadata": {
    "editable": true,
    "slideshow": {
     "slide_type": ""
    },
    "tags": []
   },
   "source": [
    "Throughout MDS, we will use diverse Greek letters in various statistical topics. Usually, these letters represent distributional parameters. That said, it is not necessary to memorize these letters right away. With practice over time, you will get familiar with this alphabet."
   ]
  },
  {
   "cell_type": "markdown",
   "id": "5ca7761d",
   "metadata": {
    "editable": true,
    "slideshow": {
     "slide_type": ""
    },
    "tags": []
   },
   "source": [
    "| Name   |      Uppercase      |  Lowercase |\n",
    "|:----------:|:-------------:|:------:|\n",
    "| Alpha |  $\\text{A}$ | $\\alpha$ |\n",
    "| Beta |    $\\text{B}$   |   $\\beta$ |\n",
    "| Gamma | $\\Gamma$ |  $\\gamma$ |\n",
    "| Delta | $\\Delta$ |  $\\delta$ |\n",
    "| Epsilon | $\\text{E}$ |  $\\epsilon$ |\n",
    "| Zeta | $\\text{Z}$ |  $\\zeta$ |\n",
    "| Eta | $\\text{H}$ |  $\\eta$ |\n",
    "| Theta | $\\Theta$ |  $\\theta$ |\n",
    "| Iota | $\\text{I}$ |  $\\iota$ |\n",
    "| Kappa | $\\text{K}$ |  $\\kappa$ |\n",
    "| Lambda | $\\Lambda$ |  $\\lambda$ |\n",
    "| Mu | $\\text{M}$ |  $\\mu$ |\n",
    "| Nu | $\\text{N}$ |  $\\nu$ |\n",
    "| Xi | $\\Xi$ |  $\\xi$ |\n",
    "| O | $\\text{O}$ |  $\\text{o}$ |\n",
    "| Pi | $\\Pi$ |  $\\pi$ |\n",
    "| Rho | $\\text{P}$ |  $\\rho$ |\n",
    "| Sigma | $\\Sigma$ |  $\\sigma$ |\n",
    "| Tau | $\\text{T}$ |  $\\tau$ |\n",
    "| Upsilon | $\\Upsilon$ |  $\\upsilon$ |\n",
    "| Phi | $\\Phi$ |  $\\phi$ |\n",
    "| Chi | $\\text{X}$ |  $\\chi$ |\n",
    "| Psi | $\\Psi$ |  $\\psi$ |\n",
    "| Omega | $\\Omega$ |  $\\omega$ |"
   ]
  }
 ],
 "metadata": {
  "kernelspec": {
   "display_name": "R",
   "language": "R",
   "name": "ir"
  },
  "language_info": {
   "codemirror_mode": "r",
   "file_extension": ".r",
   "mimetype": "text/x-r-source",
   "name": "R",
   "pygments_lexer": "r",
   "version": "4.4.1"
  }
 },
 "nbformat": 4,
 "nbformat_minor": 5
}
