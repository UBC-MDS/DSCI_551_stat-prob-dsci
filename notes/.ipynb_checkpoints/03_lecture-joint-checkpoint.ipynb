{
 "cells": [
  {
   "cell_type": "markdown",
   "id": "f21a8221",
   "metadata": {
    "editable": true,
    "slideshow": {
     "slide_type": ""
    },
    "tags": [
     "remove-input"
    ]
   },
   "source": [
    "# Lecture 3: Joint Probability"
   ]
  },
  {
   "cell_type": "markdown",
   "id": "cf2f5f16",
   "metadata": {
    "editable": true,
    "slideshow": {
     "slide_type": ""
    },
    "tags": []
   },
   "source": [
    "## Learning Objectives\n",
    "\n",
    "By the end of this lecture, you should be able to:\n",
    "- Calculate marginal distributions from a joint distribution of random variables.\n",
    "- Describe the probabilistic consequences of working with independent random variables.\n",
    "- Calculate and describe covariance in multivariate cases (i.e., with more than one random variable).\n",
    "- Calculate and describe two mainstream correlation metrics: Pearson's correlation and Kendall's $\\tau_K$."
   ]
  },
  {
   "cell_type": "markdown",
   "id": "6d361eba",
   "metadata": {
    "editable": true,
    "slideshow": {
     "slide_type": ""
    },
    "tags": [
     "remove-input"
    ]
   },
   "source": [
    "(discrete-joint-distributions)=\n",
    "## 1. Joint Distributions\n",
    "\n",
    "This lecture will explore cases simultaneously involving multiple random variables. Hence, let us begin with the concept of **joint distribution**. So far, we have only considered one random variable at a time. Its distribution is called **univariate** because there is just one variable. However, we very often have more than one random variable.\n",
    "\n",
    "```{admonition} Definition of Joint Distribution\n",
    ":class: tip\n",
    "A joint distribution is a formal probability distribution involving two or more simultaneous random variables, either discrete or continuous, in a random process or system. This joint distribution has to encompass all possible outcomes for these two or more random variables.\n",
    "```\n",
    "\n",
    "``` {figure} img/two_coins.png\n",
    ":height: 200px\n",
    ":name: coin\n",
    "Two coins\n",
    "```\n",
    "\n",
    "Let us start with an example involving coin tosses. Thus, consider **two independent fair coins** with two possible outcomes each: heads ($\\text{H}$) or tails ($\\text{T}$). The possible **joint outcomes** are: $\\texttt{HH}$, $\\texttt{HT}$, $\\texttt{TH}$, $\\texttt{TT}$, each with a probability $0.25$. We can visualize this as a joint distribution in {numref}`joint-dist-coins`.\n",
    "\n",
    "```{list-table} Joint probability distribution of two independent coin tosses\n",
    ":header-rows: 1\n",
    ":name: joint-dist-coins\n",
    "\n",
    "* - $X/Y$ \n",
    "  - $\\texttt{H}$ \n",
    "  - $\\texttt{T}$ \n",
    "* - $\\texttt{H}$ \n",
    "  - 0.25\n",
    "  - 0.25\n",
    "* - $\\texttt{T}$ \n",
    "  - 0.25\n",
    "  - 0.25\n",
    "```\n",
    "\n",
    "Note that an outcome in {numref}`joint-dist-coins` consists of a pair of values. The sum of all probabilities still adds to 1 since this is **proper** a probability distribution. Moreover, we could set the following **binary random variables** (since each one could only have two outcomes, $\\texttt{H}$ or $\\texttt{T}$):\n",
    "\n",
    "```{math}\n",
    "\\begin{gather*}\n",
    "X = \\text{First coin's outcome} \\\\\n",
    "Y = \\text{Second coin's outcome.}\n",
    "\\end{gather*}\n",
    "```\n",
    "\n",
    "Therefore, for example via the independence property shown in Equation {eq}`independence`, one cell from {numref}`joint-dist-coins` can be written as:\n",
    "\n",
    "```{math}\n",
    "\\begin{align*}\n",
    "P(X = \\texttt{H} \\cap Y = \\texttt{H}) &= P(X = \\texttt{H}) \\cdot P(Y = \\texttt{H}) \\qquad \\qquad \\text{since both tosses are independent} \\\\\n",
    "&= 0.5 \\cdot 0.5  \\qquad \\qquad \\text{both coins are fair} \\\\\n",
    "&= 0.25.\n",
    "\\end{align*}\n",
    "```\n",
    "\n",
    "Note this is not really any different from what we have already seen. We can still write this as an **univariate distribution with four categories**. This is useful to remember when we are calculating probabilities. Thus, alternatively, we can define the following random variable:\n",
    "\n",
    "$$Z = \\text{Outcomes obtained when tossing two independent coins,}$$\n",
    "\n",
    "whose probability mass function (PMF) is shown in {numref}`pmf-z-coins`.\n",
    "\n",
    "```{list-table} Probability mass function (PMF) of random variable $Z$ for two independent coin tosses \n",
    ":header-rows: 1\n",
    ":name: pmf-z-coins\n",
    "\n",
    "* - $Z$\n",
    "  - Probability\n",
    "* - $\\texttt{HH}$\n",
    "  - 0.25\n",
    "* - $\\texttt{HT}$\n",
    "  - 0.25\n",
    "* - $\\texttt{TH}$\n",
    "  - 0.25\n",
    "* - $\\texttt{TT}$\n",
    "  - 0.25\n",
    "```\n",
    "\n",
    "```{important} \n",
    "The PMF of $Z$ in {numref}`pmf-z-coins` considers the order in which we obtain the outcomes.\n",
    "```\n",
    "\n",
    "Viewing the distribution in {numref}`joint-dist-coins` as a (2-dimensional) matrix, instead of a (1-dimensional) vector as in {numref}`pmf-z-coins`, is more useful when determining the properties of individual random variables. Thus, in practice, many cases will require multivariate distributions."
   ]
  },
  {
   "cell_type": "markdown",
   "id": "1c277215",
   "metadata": {
    "editable": true,
    "slideshow": {
     "slide_type": ""
    },
    "tags": []
   },
   "source": [
    "### 1.1. Example: Length of Stay Versus Gang Demand\n",
    "\n",
    "Throughout this lecture, we will work with the following joint distribution of **length of stay** of a ship and its **gang demand**. \n",
    "\n",
    "``` {figure} img/ship.png\n",
    ":height: 350px\n",
    ":name: ship\n",
    "A cargo ship\n",
    "```\n",
    "\n",
    "Consider an example that a Vancouver port faces with \"*gang demand*.\" Whenever a ship arrives at the port of Vancouver, they request a certain number of \"*gangs*\" (groups of people) to help unload the ship. Let us suppose the number of $\\text{Gangs}$ requested by a ship has the following PMF:"
   ]
  },
  {
   "cell_type": "code",
   "execution_count": 1,
   "id": "c1dd26d3",
   "metadata": {
    "editable": true,
    "slideshow": {
     "slide_type": ""
    },
    "tags": [
     "remove-input",
     "remove-output"
    ],
    "vscode": {
     "languageId": "r"
    }
   },
   "outputs": [
    {
     "name": "stderr",
     "output_type": "stream",
     "text": [
      "── \u001b[1mAttaching core tidyverse packages\u001b[22m ─────────────────────────────────────────────────── tidyverse 2.0.0 ──\n",
      "\u001b[32m✔\u001b[39m \u001b[34mdplyr    \u001b[39m 1.1.4     \u001b[32m✔\u001b[39m \u001b[34mreadr    \u001b[39m 2.1.5\n",
      "\u001b[32m✔\u001b[39m \u001b[34mforcats  \u001b[39m 1.0.0     \u001b[32m✔\u001b[39m \u001b[34mstringr  \u001b[39m 1.5.1\n",
      "\u001b[32m✔\u001b[39m \u001b[34mggplot2  \u001b[39m 3.5.1     \u001b[32m✔\u001b[39m \u001b[34mtibble   \u001b[39m 3.2.1\n",
      "\u001b[32m✔\u001b[39m \u001b[34mlubridate\u001b[39m 1.9.3     \u001b[32m✔\u001b[39m \u001b[34mtidyr    \u001b[39m 1.3.1\n",
      "\u001b[32m✔\u001b[39m \u001b[34mpurrr    \u001b[39m 1.0.2     \n",
      "── \u001b[1mConflicts\u001b[22m ───────────────────────────────────────────────────────────────────── tidyverse_conflicts() ──\n",
      "\u001b[31m✖\u001b[39m \u001b[34mdplyr\u001b[39m::\u001b[32mfilter()\u001b[39m masks \u001b[34mstats\u001b[39m::filter()\n",
      "\u001b[31m✖\u001b[39m \u001b[34mdplyr\u001b[39m::\u001b[32mlag()\u001b[39m    masks \u001b[34mstats\u001b[39m::lag()\n",
      "\u001b[36mℹ\u001b[39m Use the conflicted package (\u001b[3m\u001b[34m<http://conflicted.r-lib.org/>\u001b[39m\u001b[23m) to force all conflicts to become errors\n",
      "\n",
      "Attaching package: ‘kableExtra’\n",
      "\n",
      "\n",
      "The following object is masked from ‘package:dplyr’:\n",
      "\n",
      "    group_rows\n",
      "\n",
      "\n"
     ]
    }
   ],
   "source": [
    "library(tidyverse)\n",
    "library(knitr)\n",
    "library(kableExtra)\n",
    "library(IRdisplay)"
   ]
  },
  {
   "cell_type": "code",
   "execution_count": 2,
   "id": "ffb3e05e-a165-407b-a8ff-c9a65874a285",
   "metadata": {},
   "outputs": [
    {
     "data": {
      "text/html": [
       "<table>\n",
       " <thead>\n",
       "  <tr>\n",
       "   <th style=\"text-align:center;\"> Number of Gangs </th>\n",
       "   <th style=\"text-align:center;\"> Probability </th>\n",
       "  </tr>\n",
       " </thead>\n",
       "<tbody>\n",
       "  <tr>\n",
       "   <td style=\"text-align:center;\"> 1 </td>\n",
       "   <td style=\"text-align:center;\"> 0.2 </td>\n",
       "  </tr>\n",
       "  <tr>\n",
       "   <td style=\"text-align:center;\"> 2 </td>\n",
       "   <td style=\"text-align:center;\"> 0.4 </td>\n",
       "  </tr>\n",
       "  <tr>\n",
       "   <td style=\"text-align:center;\"> 3 </td>\n",
       "   <td style=\"text-align:center;\"> 0.3 </td>\n",
       "  </tr>\n",
       "  <tr>\n",
       "   <td style=\"text-align:center;\"> 4 </td>\n",
       "   <td style=\"text-align:center;\"> 0.1 </td>\n",
       "  </tr>\n",
       "</tbody>\n",
       "</table>"
      ]
     },
     "metadata": {},
     "output_type": "display_data"
    }
   ],
   "source": [
    "los <- tribble(\n",
    "  ~ngang, ~p,\n",
    "  1, 0.2,\n",
    "  2, 0.4,\n",
    "  3, 0.3,\n",
    "  4, 0.1,\n",
    ")\n",
    "\n",
    "kable(los,\n",
    "  col.names = c(\"Number of Gangs\", \"Probability\"), align = \"cc\", format = \"html\") %>%\n",
    "  as.character() %>% \n",
    "  display_html()"
   ]
  },
  {
   "cell_type": "markdown",
   "id": "a19b2394",
   "metadata": {
    "editable": true,
    "slideshow": {
     "slide_type": ""
    },
    "tags": []
   },
   "source": [
    "Furthermore, each ship will stay at port for a random number of days, which is the length of stay ($\\text{LOS}$), according to the following distribution:"
   ]
  },
  {
   "cell_type": "code",
   "execution_count": 3,
   "id": "e62f4411",
   "metadata": {
    "editable": true,
    "slideshow": {
     "slide_type": ""
    },
    "tags": [
     "remove-input"
    ],
    "vscode": {
     "languageId": "r"
    }
   },
   "outputs": [
    {
     "data": {
      "text/html": [
       "<table>\n",
       " <thead>\n",
       "  <tr>\n",
       "   <th style=\"text-align:center;\"> Length of Stay (LOS) in Days </th>\n",
       "   <th style=\"text-align:center;\"> Probability </th>\n",
       "  </tr>\n",
       " </thead>\n",
       "<tbody>\n",
       "  <tr>\n",
       "   <td style=\"text-align:center;\"> 1 </td>\n",
       "   <td style=\"text-align:center;\"> 0.25 </td>\n",
       "  </tr>\n",
       "  <tr>\n",
       "   <td style=\"text-align:center;\"> 2 </td>\n",
       "   <td style=\"text-align:center;\"> 0.35 </td>\n",
       "  </tr>\n",
       "  <tr>\n",
       "   <td style=\"text-align:center;\"> 3 </td>\n",
       "   <td style=\"text-align:center;\"> 0.20 </td>\n",
       "  </tr>\n",
       "  <tr>\n",
       "   <td style=\"text-align:center;\"> 4 </td>\n",
       "   <td style=\"text-align:center;\"> 0.10 </td>\n",
       "  </tr>\n",
       "  <tr>\n",
       "   <td style=\"text-align:center;\"> 5 </td>\n",
       "   <td style=\"text-align:center;\"> 0.10 </td>\n",
       "  </tr>\n",
       "</tbody>\n",
       "</table>"
      ]
     },
     "metadata": {},
     "output_type": "display_data"
    }
   ],
   "source": [
    "los <- tribble(\n",
    "  ~ndays, ~p,\n",
    "  1, 0.25,\n",
    "  2, 0.35,\n",
    "  3, 0.2,\n",
    "  4, 0.1,\n",
    "  5, 0.1\n",
    ")\n",
    "\n",
    "kable(los,\n",
    "  col.names = c(\"Length of Stay (LOS) in Days\", \"Probability\"), align = \"cc\", format = \"html\") %>%\n",
    "  as.character() %>% \n",
    "  display_html()"
   ]
  },
  {
   "cell_type": "markdown",
   "id": "65836ac5",
   "metadata": {
    "editable": true,
    "slideshow": {
     "slide_type": ""
    },
    "tags": []
   },
   "source": [
    "```{important} \n",
    "The above PMF can be conveyed as a plot, table, or mathematical function; all options are correct. There is no significance (not statistically speaking!).\n",
    "```\n",
    "\n",
    "Given the above information coming from the $\\text{LOS}$ PMF, here is a question we might be interested in:\n",
    "\n",
    "> What is the probability that a ship requires 4 gangs **AND** will stay in port for 5 days?\n",
    "\n",
    "There is some bad news here. First, the information provided by both separate PMFs ($\\text{Gangs}$ and $\\text{LOS}$) is not sufficient to answer this question. \n",
    "\n",
    "Of course, there is a 10% chance of needing 4 gangs **in the absence of other information**, and a 10% chance of staying for 5 days **in the absence of other information**. We could try multiplying these numbers together, giving us 1%. But what if more extended stays require fewer gangs because there is more time to do the work? In that case, it might be extremely unlikely to find the combination of needed 4 gangs and stay for 5 days: perhaps 0.1% or lower. Or maybe something else is going on, and the probability is higher than 1%! Who knows?\n",
    "\n",
    "In this and the following lecture, we will focus on these types of questions. Specifically, this lecture will focus on the question above (**4 gangs AND 5 days**), and {doc}`04_lecture-conditional` will focus on a slightly different question: \n",
    "\n",
    "> **IF** you already know that the length of stay is 5 days, what is the probability of needing 4 gangs?\n",
    "\n",
    "For now, let us proceed with joint distributions. Above, we have the PMFs for the number of $\\text{Gangs}$ and $\\text{LOS}$ **individually**. Formally, these individual distributions are called **marginal distributions**.\n",
    "\n",
    "```{admonition} Definition of Marginal Distribution\n",
    ":class: tip\n",
    "**In a random system/process with more than one random variable**, the distribution of a standalone variable is called marginal distribution (sometimes just \"*marginal*\" or \"*margin*\"). \n",
    "\n",
    "We use the word \"marginal\" to emphasize that the distribution is being considered **in isolation** from other related variables in the same random process or system.\n",
    "```\n",
    "\n",
    "Since we have 4 possibilities for the number of $\\text{Gangs}$, we have 4 probabilities that add up to 1; and since we have 5 possibilities for $\\text{LOS}$, we have 5 probabilities that add up to 1. But these 9 probabilities do not tell the whole story. So how many do we need? We need a probability for **every possible combination** of the number of $\\text{LOS}$ and $\\text{Gangs}$. In this case, $5 \\times 4 = 20$ probabilities (that again add up to 1). We might display these 20 probabilities in a $5 \\times 4$ joint probability table:"
   ]
  },
  {
   "cell_type": "code",
   "execution_count": 4,
   "id": "f63ffce6",
   "metadata": {
    "tags": [
     "remove-input"
    ],
    "vscode": {
     "languageId": "r"
    }
   },
   "outputs": [],
   "source": [
    "raw_data <- data.frame(\n",
    "  LOS = c(rep(1, 4), rep(2, 4), rep(3, 4), rep(4, 4), rep(5, 4)), Gangs = rep(1:4, 5),\n",
    "  Probability = c(\n",
    "    0.00170, 0.04253, 0.12471, 0.08106,\n",
    "    0.02664, 0.16981, 0.13598, 0.01757,\n",
    "    0.05109, 0.11563, 0.03203, 0.00125,\n",
    "    0.04653, 0.04744, 0.00593, 0.00010,\n",
    "    0.07404, 0.02459, 0.00135, 0.00002\n",
    "  )\n",
    ")\n",
    "\n",
    "joint_distribution <- raw_data %>%\n",
    "  mutate(\n",
    "    LOS = str_c(\"LOS = \", LOS),\n",
    "    Gangs = str_c(\"Gangs = \", Gangs)\n",
    "  ) %>%\n",
    "  pivot_wider(id_cols = LOS, names_from = Gangs, values_from = Probability) %>%\n",
    "  column_to_rownames(\"LOS\") %>%\n",
    "  as.matrix()"
   ]
  },
  {
   "cell_type": "code",
   "execution_count": 5,
   "id": "8e00accc",
   "metadata": {
    "vscode": {
     "languageId": "r"
    }
   },
   "outputs": [
    {
     "data": {
      "text/html": [
       "<table class=\"dataframe\">\n",
       "<caption>A matrix: 5 × 4 of type dbl</caption>\n",
       "<thead>\n",
       "\t<tr><th></th><th scope=col>Gangs = 1</th><th scope=col>Gangs = 2</th><th scope=col>Gangs = 3</th><th scope=col>Gangs = 4</th></tr>\n",
       "</thead>\n",
       "<tbody>\n",
       "\t<tr><th scope=row>LOS = 1</th><td>0.00170</td><td>0.04253</td><td>0.12471</td><td>0.08106</td></tr>\n",
       "\t<tr><th scope=row>LOS = 2</th><td>0.02664</td><td>0.16981</td><td>0.13598</td><td>0.01757</td></tr>\n",
       "\t<tr><th scope=row>LOS = 3</th><td>0.05109</td><td>0.11563</td><td>0.03203</td><td>0.00125</td></tr>\n",
       "\t<tr><th scope=row>LOS = 4</th><td>0.04653</td><td>0.04744</td><td>0.00593</td><td>0.00010</td></tr>\n",
       "\t<tr><th scope=row>LOS = 5</th><td>0.07404</td><td>0.02459</td><td>0.00135</td><td>0.00002</td></tr>\n",
       "</tbody>\n",
       "</table>\n"
      ],
      "text/latex": [
       "A matrix: 5 × 4 of type dbl\n",
       "\\begin{tabular}{r|llll}\n",
       "  & Gangs = 1 & Gangs = 2 & Gangs = 3 & Gangs = 4\\\\\n",
       "\\hline\n",
       "\tLOS = 1 & 0.00170 & 0.04253 & 0.12471 & 0.08106\\\\\n",
       "\tLOS = 2 & 0.02664 & 0.16981 & 0.13598 & 0.01757\\\\\n",
       "\tLOS = 3 & 0.05109 & 0.11563 & 0.03203 & 0.00125\\\\\n",
       "\tLOS = 4 & 0.04653 & 0.04744 & 0.00593 & 0.00010\\\\\n",
       "\tLOS = 5 & 0.07404 & 0.02459 & 0.00135 & 0.00002\\\\\n",
       "\\end{tabular}\n"
      ],
      "text/markdown": [
       "\n",
       "A matrix: 5 × 4 of type dbl\n",
       "\n",
       "| <!--/--> | Gangs = 1 | Gangs = 2 | Gangs = 3 | Gangs = 4 |\n",
       "|---|---|---|---|---|\n",
       "| LOS = 1 | 0.00170 | 0.04253 | 0.12471 | 0.08106 |\n",
       "| LOS = 2 | 0.02664 | 0.16981 | 0.13598 | 0.01757 |\n",
       "| LOS = 3 | 0.05109 | 0.11563 | 0.03203 | 0.00125 |\n",
       "| LOS = 4 | 0.04653 | 0.04744 | 0.00593 | 0.00010 |\n",
       "| LOS = 5 | 0.07404 | 0.02459 | 0.00135 | 0.00002 |\n",
       "\n"
      ],
      "text/plain": [
       "        Gangs = 1 Gangs = 2 Gangs = 3 Gangs = 4\n",
       "LOS = 1 0.00170   0.04253   0.12471   0.08106  \n",
       "LOS = 2 0.02664   0.16981   0.13598   0.01757  \n",
       "LOS = 3 0.05109   0.11563   0.03203   0.00125  \n",
       "LOS = 4 0.04653   0.04744   0.00593   0.00010  \n",
       "LOS = 5 0.07404   0.02459   0.00135   0.00002  "
      ]
     },
     "metadata": {},
     "output_type": "display_data"
    }
   ],
   "source": [
    "joint_distribution"
   ]
  },
  {
   "cell_type": "markdown",
   "id": "c76003bf",
   "metadata": {},
   "source": [
    "We can make sure these probabilities add up to 1 via the function `sum()`:"
   ]
  },
  {
   "cell_type": "code",
   "execution_count": 6,
   "id": "4f77d6f6",
   "metadata": {
    "vscode": {
     "languageId": "r"
    }
   },
   "outputs": [
    {
     "data": {
      "text/html": [
       "1"
      ],
      "text/latex": [
       "1"
      ],
      "text/markdown": [
       "1"
      ],
      "text/plain": [
       "[1] 1"
      ]
     },
     "metadata": {},
     "output_type": "display_data"
    }
   ],
   "source": [
    "sum(joint_distribution)"
   ]
  },
  {
   "cell_type": "markdown",
   "id": "3b2e5e82",
   "metadata": {
    "editable": true,
    "slideshow": {
     "slide_type": ""
    },
    "tags": []
   },
   "source": [
    "```{admonition} Note\n",
    ":class: warning\n",
    "Going from the initial marginal distributions to the joint distribution is not a straightforward procedure. It requires more advanced statistical techniques. Specifically, in this case, we use a **Gaussian copula**, which is common in risk management. \n",
    "\n",
    "Roughly speaking, a copula allows us to understand the dependency structure in a multivariate random system or process in which the marginal distributions play a crucial role. Since the construction of joint distributions via copulas is out of the scope of this course, we will use the resulting `joint_distribution` \"as is\" to illustrate this lecture's concepts.\n",
    "```\n",
    "\n",
    "Moving along with the corresponding joint distribution, we can see the probability of needing 4 $\\text{Gangs}$ and $\\text{LOS}$ of 5 days is less than 1% in this case, i.e.:\n",
    "\n",
    "$$P(\\text{LOS} = 5 \\cap \\text{Gangs} = 4) = 0.00002.$$\n",
    "\n",
    "Now, we might wonder: \n",
    "\n",
    "> Could the 20 numbers in the matrix `joint_distribution` be absolutely **ANY** probabilities between 0 and 1?\n",
    "\n",
    "No, they cannot be any probability between 0 and 1. They are restricted by the fact that they will need to add up to 1 (recall {ref}`law-total-probability`!). Furthermore, there are other restrictions:\n",
    "\n",
    "- We already specified the marginal distributions of the number of $\\text{Gangs}$ and $\\text{LOS}$ earlier. Therefore, we need the joint distribution above to be consistent with those marginal distributions (otherwise, we would likely break the probability rules from {doc}`01_lecture-uncertainty`). \n",
    "- If we already said the **marginal probability** of needing 4 $\\text{Gangs}$ is 10%, the joint distribution **should not contradict that information** or something would be wrong. This is why multivariate methods such as a Gaussian copula are used to reflect this class of facts."
   ]
  },
  {
   "cell_type": "markdown",
   "id": "ae63c114",
   "metadata": {
    "editable": true,
    "slideshow": {
     "slide_type": ""
    },
    "tags": []
   },
   "source": [
    "### 1.2. Calculating Marginal Distributions from the Joint Distribution\n",
    "\n",
    "We have just specified a joint distribution of $\\text{LOS}$ and $\\text{Gangs}$. But beforehand, we specified a distribution for these variables individually. Therefore:\n",
    "\n",
    "- If you have a joint distribution, then the marginal distribution of each individual variable follows as a consequence.\n",
    "- If you have the marginal distribution of each individual variable, you still do not have enough information to form the joint distribution between the variables.\n",
    "\n",
    "In the case of discrete random variables, such as in our cargo ship example, calculating a marginal distribution involves adding up the probabilities corresponding to standalone outcomes of $\\text{LOS}$ and $\\text{Gangs}$. \n",
    "\n",
    "Let us start with the marginal distribution of $\\text{LOS}$. Thus, using our `joint_distribution`:"
   ]
  },
  {
   "cell_type": "code",
   "execution_count": 7,
   "id": "6a5771ab",
   "metadata": {
    "vscode": {
     "languageId": "r"
    }
   },
   "outputs": [
    {
     "data": {
      "text/html": [
       "<table class=\"dataframe\">\n",
       "<caption>A matrix: 5 × 4 of type dbl</caption>\n",
       "<thead>\n",
       "\t<tr><th></th><th scope=col>Gangs = 1</th><th scope=col>Gangs = 2</th><th scope=col>Gangs = 3</th><th scope=col>Gangs = 4</th></tr>\n",
       "</thead>\n",
       "<tbody>\n",
       "\t<tr><th scope=row>LOS = 1</th><td>0.00170</td><td>0.04253</td><td>0.12471</td><td>0.08106</td></tr>\n",
       "\t<tr><th scope=row>LOS = 2</th><td>0.02664</td><td>0.16981</td><td>0.13598</td><td>0.01757</td></tr>\n",
       "\t<tr><th scope=row>LOS = 3</th><td>0.05109</td><td>0.11563</td><td>0.03203</td><td>0.00125</td></tr>\n",
       "\t<tr><th scope=row>LOS = 4</th><td>0.04653</td><td>0.04744</td><td>0.00593</td><td>0.00010</td></tr>\n",
       "\t<tr><th scope=row>LOS = 5</th><td>0.07404</td><td>0.02459</td><td>0.00135</td><td>0.00002</td></tr>\n",
       "</tbody>\n",
       "</table>\n"
      ],
      "text/latex": [
       "A matrix: 5 × 4 of type dbl\n",
       "\\begin{tabular}{r|llll}\n",
       "  & Gangs = 1 & Gangs = 2 & Gangs = 3 & Gangs = 4\\\\\n",
       "\\hline\n",
       "\tLOS = 1 & 0.00170 & 0.04253 & 0.12471 & 0.08106\\\\\n",
       "\tLOS = 2 & 0.02664 & 0.16981 & 0.13598 & 0.01757\\\\\n",
       "\tLOS = 3 & 0.05109 & 0.11563 & 0.03203 & 0.00125\\\\\n",
       "\tLOS = 4 & 0.04653 & 0.04744 & 0.00593 & 0.00010\\\\\n",
       "\tLOS = 5 & 0.07404 & 0.02459 & 0.00135 & 0.00002\\\\\n",
       "\\end{tabular}\n"
      ],
      "text/markdown": [
       "\n",
       "A matrix: 5 × 4 of type dbl\n",
       "\n",
       "| <!--/--> | Gangs = 1 | Gangs = 2 | Gangs = 3 | Gangs = 4 |\n",
       "|---|---|---|---|---|\n",
       "| LOS = 1 | 0.00170 | 0.04253 | 0.12471 | 0.08106 |\n",
       "| LOS = 2 | 0.02664 | 0.16981 | 0.13598 | 0.01757 |\n",
       "| LOS = 3 | 0.05109 | 0.11563 | 0.03203 | 0.00125 |\n",
       "| LOS = 4 | 0.04653 | 0.04744 | 0.00593 | 0.00010 |\n",
       "| LOS = 5 | 0.07404 | 0.02459 | 0.00135 | 0.00002 |\n",
       "\n"
      ],
      "text/plain": [
       "        Gangs = 1 Gangs = 2 Gangs = 3 Gangs = 4\n",
       "LOS = 1 0.00170   0.04253   0.12471   0.08106  \n",
       "LOS = 2 0.02664   0.16981   0.13598   0.01757  \n",
       "LOS = 3 0.05109   0.11563   0.03203   0.00125  \n",
       "LOS = 4 0.04653   0.04744   0.00593   0.00010  \n",
       "LOS = 5 0.07404   0.02459   0.00135   0.00002  "
      ]
     },
     "metadata": {},
     "output_type": "display_data"
    }
   ],
   "source": [
    "joint_distribution"
   ]
  },
  {
   "cell_type": "markdown",
   "id": "f06fe52d",
   "metadata": {},
   "source": [
    "Now, we can compute $P(\\text{LOS} = 1)$. Thus, there are four ways this could happen: \n",
    "\n",
    "-  $\\text{LOS} = 1$ and $\\text{Gangs} = 1$.\n",
    "-  $\\text{LOS} = 1$ and $\\text{Gangs} = 2$.\n",
    "-  $\\text{LOS} = 1$ and $\\text{Gangs} = 3$.\n",
    "-  $\\text{LOS} = 1$ and $\\text{Gangs} = 4$.\n",
    "\n",
    "So, to find the marginal probability $P(\\text{LOS} = 1)$, we need to add up those four joint probabilities. Looking at our `joint_distribution` of $\\text{LOS}$ and $\\text{Gangs}$, this corresponds to summing the first row of the joint probability table.\n",
    "\n",
    "```{math}\n",
    "\\begin{align*}\n",
    "P(\\text{LOS} = 1) &= P(\\text{LOS} = 1 \\cap \\text{Gangs} = 1) + P(\\text{LOS} = 1 \\cap \\text{Gangs} = 2) +  \\\\\n",
    "& \\quad \\qquad P(\\text{LOS} = 1 \\cap \\text{Gangs} = 3) + P(\\text{LOS} = 1 \\cap \\text{Gangs} = 4) \\\\\n",
    "&= 0.00170 + 0.04253 + 0.12471 + 0.08106 \\\\\n",
    "&= 0.25.\n",
    "\\end{align*}\n",
    "```\n",
    "\n",
    "We have $P(\\text{LOS} = 1)$, but we would also need $P(\\text{LOS} = 2)$, $P(\\text{LOS} = 3)$, etc. It follows that the marginal distribution of $\\text{LOS}$ can be obtained by adding up each row in our `joint_distribution` (we use the function `rowSums()`)."
   ]
  },
  {
   "cell_type": "code",
   "execution_count": 8,
   "id": "344fb67f",
   "metadata": {
    "vscode": {
     "languageId": "r"
    }
   },
   "outputs": [
    {
     "data": {
      "text/html": [
       "<table>\n",
       " <thead>\n",
       "  <tr>\n",
       "   <th style=\"text-align:left;\">  </th>\n",
       "   <th style=\"text-align:center;\"> Probability </th>\n",
       "  </tr>\n",
       " </thead>\n",
       "<tbody>\n",
       "  <tr>\n",
       "   <td style=\"text-align:left;font-weight: bold;\"> LOS = 1 </td>\n",
       "   <td style=\"text-align:center;\"> 0.25 </td>\n",
       "  </tr>\n",
       "  <tr>\n",
       "   <td style=\"text-align:left;font-weight: bold;\"> LOS = 2 </td>\n",
       "   <td style=\"text-align:center;\"> 0.35 </td>\n",
       "  </tr>\n",
       "  <tr>\n",
       "   <td style=\"text-align:left;font-weight: bold;\"> LOS = 3 </td>\n",
       "   <td style=\"text-align:center;\"> 0.20 </td>\n",
       "  </tr>\n",
       "  <tr>\n",
       "   <td style=\"text-align:left;font-weight: bold;\"> LOS = 4 </td>\n",
       "   <td style=\"text-align:center;\"> 0.10 </td>\n",
       "  </tr>\n",
       "  <tr>\n",
       "   <td style=\"text-align:left;font-weight: bold;\"> LOS = 5 </td>\n",
       "   <td style=\"text-align:center;\"> 0.10 </td>\n",
       "  </tr>\n",
       "</tbody>\n",
       "</table>"
      ]
     },
     "metadata": {},
     "output_type": "display_data"
    }
   ],
   "source": [
    "rowSums(joint_distribution) %>%\n",
    "  kable(col.names = \"Probability\", align = \"c\") %>%\n",
    "  column_spec(1, bold = TRUE) %>%\n",
    "  as.character() %>%\n",
    "  display_html()"
   ]
  },
  {
   "cell_type": "markdown",
   "id": "78bbef88",
   "metadata": {},
   "source": [
    "Note that the distribution of $\\text{LOS}$ is the same we had at the beginning of the lecture. Hence, our `joint_distribution` is **consistent** with the initial marginal distribution of $\\text{LOS}$. \n",
    "\n",
    "Analogously, the marginal distribution of $\\text{Gangs}$ can be obtained by summing the columns from our `joint_distribution` (we use function `colSums()`):"
   ]
  },
  {
   "cell_type": "code",
   "execution_count": 9,
   "id": "52c8d545",
   "metadata": {
    "vscode": {
     "languageId": "r"
    }
   },
   "outputs": [
    {
     "data": {
      "text/html": [
       "<table>\n",
       " <thead>\n",
       "  <tr>\n",
       "   <th style=\"text-align:left;\">  </th>\n",
       "   <th style=\"text-align:center;\"> Probability </th>\n",
       "  </tr>\n",
       " </thead>\n",
       "<tbody>\n",
       "  <tr>\n",
       "   <td style=\"text-align:left;font-weight: bold;\"> Gangs = 1 </td>\n",
       "   <td style=\"text-align:center;\"> 0.2 </td>\n",
       "  </tr>\n",
       "  <tr>\n",
       "   <td style=\"text-align:left;font-weight: bold;\"> Gangs = 2 </td>\n",
       "   <td style=\"text-align:center;\"> 0.4 </td>\n",
       "  </tr>\n",
       "  <tr>\n",
       "   <td style=\"text-align:left;font-weight: bold;\"> Gangs = 3 </td>\n",
       "   <td style=\"text-align:center;\"> 0.3 </td>\n",
       "  </tr>\n",
       "  <tr>\n",
       "   <td style=\"text-align:left;font-weight: bold;\"> Gangs = 4 </td>\n",
       "   <td style=\"text-align:center;\"> 0.1 </td>\n",
       "  </tr>\n",
       "</tbody>\n",
       "</table>"
      ]
     },
     "metadata": {},
     "output_type": "display_data"
    }
   ],
   "source": [
    "colSums(joint_distribution) %>%\n",
    "  kable(col.names = \"Probability\", align = \"c\") %>%\n",
    "  column_spec(1, bold = TRUE) %>%\n",
    "  as.character() %>%\n",
    "  display_html()"
   ]
  },
  {
   "cell_type": "markdown",
   "id": "ed4bb1af",
   "metadata": {},
   "source": [
    "Also, the marginal distribution of $\\text{Gangs}$ is the same we had at the beginning of the lecture. Thus, our `joint_distribution` is **consistent** with the initial marginal distribution of $\\text{Gangs}$. \n",
    "\n",
    "```{important} \n",
    "It is crucial to highlight that there is more than one way to obtain a joint distribution. Any specific procedure will depend on factors such as the existing correlation between a given set of random variables.\n",
    "```\n",
    "\n",
    "Now, we will start with in-class questions via [**iClicker**](https://student.iclicker.com/)."
   ]
  },
  {
   "cell_type": "markdown",
   "id": "c89aa1e4",
   "metadata": {},
   "source": [
    "```{exercise}\n",
    ":label: lecture3-q1\n",
    "\n",
    "Answer **TRUE** or **FALSE**:\n",
    "\n",
    "We obtain a marginal distribution by summing the rows of a joint distribution; therefore, each row of a joint distribution must sum to 1.\n",
    "\n",
    "**A.** TRUE\n",
    "\n",
    "**B.** FALSE\n",
    "```"
   ]
  },
  {
   "cell_type": "markdown",
   "id": "db330526",
   "metadata": {},
   "source": [
    "## 2. Independence and Dependence Concepts\n",
    "\n",
    "In practice, a big part of Data Science is about harvesting the relationship between the variables in our datasets. For instance, we might be interested in inferring what factors influence leisure expenditure in Canadian households with similar sociodemographic profiles (i.e., there might be some data **dependence**). Or maybe, what factors influence leisure expenditure in Canadian households with totally different sociodemographic profiles (i.e., there might be some data **independence**). \n"
   ]
  },
  {
   "cell_type": "markdown",
   "id": "fca4f4e1",
   "metadata": {},
   "source": [
    "### 2.1. Independence\n",
    "\n",
    "Let $X$ and $Y$ be two random variables. Retaking {ref}`independent-events`, we say $X$ and $Y$ are **independent** if knowing something about one of them tells us nothing about the other. Analogous to Equation {eq}`independence`, a definition of $X$ and $Y$ being independent is the following:\n",
    "\n",
    "```{math}\n",
    ":label: independence-variables\n",
    "P(X = x \\cap Y = y) = P(X = x) \\cdot P(Y = y), \\text{for all } x \\text{ and } y\n",
    "```\n",
    "\n",
    "```{important} \n",
    "What does Equation {eq}`independence-variables` tell us about a **hypothetical joint probability table** whose cells are $P(X = x \\cap Y = y)$? \n",
    "\n",
    "Well, **if $X$ and $Y$ are independent**, we do not actually need the whole table! Instead, we only need the marginals of $X$ and $Y$. Therefore, the full joint distribution between $X$ and $Y$ is just the product of their respective marginal probabilities.\n",
    "```\n",
    "\n",
    "Note independence is not some property that you can specify separately from the joint PMF. Recall the joint PMF specifies everything about a given situation/process/system involving more than one random variable, including whether or not the random variables are independent.\n",
    "\n",
    "Going back to our earlier example of two coin flips, recall we had this joint distribution:\n",
    "\n",
    "```{math}\n",
    "\\begin{gather*}\n",
    "X = \\text{First coin's outcome} \\\\\n",
    "Y = \\text{Second coin's outcome.}\n",
    "\\end{gather*}\n",
    "```\n",
    "\n",
    "```{list-table} Joint probability distribution of two independent coin tosses\n",
    ":header-rows: 1\n",
    ":name: joint-dist-coins-2\n",
    "\n",
    "* - $X/Y$\n",
    "  - $\\texttt{H}$ \n",
    "  - $\\texttt{T}$ \n",
    "* - $\\texttt{H}$ \n",
    "  - 0.25\n",
    "  - 0.25\n",
    "* - $\\texttt{T}$ \n",
    "  - 0.25\n",
    "  - 0.25\n",
    "```\n",
    "\n",
    "From the joint PMF in {numref}`joint-dist-coins-2`, we can see that the two coin flips are independent. The marginals are the following:\n",
    "\n",
    "```{math}\n",
    "\\begin{align*}\n",
    "P(X = \\texttt{H}) &= P(X = \\texttt{H} \\cap Y = \\texttt{H}) + P(X = \\texttt{H} \\cap Y = \\texttt{T}) \\\\\n",
    "&= 0.25 + 0.25 \\\\\n",
    "&= 0.5 \\\\\n",
    "P(X = \\texttt{T}) &= P(X = \\texttt{T} \\cap Y = \\texttt{H}) + P(X = \\texttt{T} \\cap Y = \\texttt{T}) \\\\\n",
    "&= 0.25 + 0.25 \\\\\n",
    "&= 0.5 \\\\\n",
    "P(Y = \\texttt{H}) &= P(X = \\texttt{H} \\cap Y = \\texttt{H}) + P(X = \\texttt{T} \\cap Y = \\texttt{H}) \\\\\n",
    "&= 0.25 + 0.25 \\\\\n",
    "&= 0.5 \\\\\n",
    "P(Y = \\texttt{T}) &= P(X = \\texttt{H} \\cap Y = \\texttt{T}) + P(X = \\texttt{T} \\cap Y = \\texttt{T}) \\\\\n",
    "&= 0.25 + 0.25 \\\\\n",
    "&= 0.5.\n",
    "\\end{align*}\n",
    "```\n",
    "\n",
    "Moreover, we have that:\n",
    "\n",
    "```{math}\n",
    "\\begin{align*}\n",
    "P(X = \\texttt{H} \\cap Y = \\texttt{H}) &= P(X = \\texttt{H}) \\cdot P(Y = \\texttt{H}) \\\\ \n",
    "&= 0.5 \\cdot 0.5 \\\\\n",
    "&= 0.25 \\\\\n",
    "P(X = \\texttt{H} \\cap Y = \\texttt{T}) &= P(X = \\texttt{H}) \\cdot P(Y = \\texttt{T}) \\\\ \n",
    "&= 0.5 \\cdot 0.5 \\\\\n",
    "&= 0.25 \\\\\n",
    "P(X = \\texttt{T} \\cap Y = \\texttt{H}) &= P(X = \\texttt{T}) \\cdot P(Y = \\texttt{H}) \\\\ \n",
    "&= 0.5 \\cdot 0.5 \\\\\n",
    "&= 0.25 \\\\\n",
    "P(X = \\texttt{T} \\cap Y = \\texttt{T}) &= P(X = \\texttt{T}) \\cdot P(Y = \\texttt{T}) \\\\ \n",
    "&= 0.5 \\cdot 0.5 \\\\\n",
    "&= 0.25. \n",
    "\\end{align*}\n",
    "```\n",
    "\n",
    "```{admonition} Note\n",
    ":class: warning\n",
    "The entire marginal distribution for a coin can be specified with a single number, e.g., \n",
    "\n",
    "$$P(X = \\texttt{H}) = 0.5.$$ \n",
    "\n",
    "The reason for this is the Law of Total Probability in the case of a **single random variable**: \n",
    "\n",
    "$$P(X = \\texttt{H}) + P(X = \\texttt{T}) = 1,$$\n",
    "\n",
    "so \n",
    "\n",
    "$$P(X = \\texttt{T}) = 1 - P(X = \\texttt{H})$$\n",
    "\n",
    "When talking about **degrees of freedom**, it is actually best to account for this fact. Thus, each coin has 1 degree of freedom, and (in general) the joint of two coins has 3 because the Law of Total Probability fixes the fourth probability. More on this later in *DSCI 552*.\n",
    "```\n",
    "\n",
    "Now, let us explore a **different two-coin example**. How about the below PMF? Are the two coins independent?\n",
    "\n",
    "```{list-table} Another joint probability distribution of two coin tosses\n",
    ":header-rows: 1\n",
    ":name: joint-dist-coins-3\n",
    "\n",
    "* - $X/Y$\n",
    "  - $\\texttt{H}$ \n",
    "  - $\\texttt{T}$ \n",
    "* - $\\texttt{H}$ \n",
    "  - 0.2\n",
    "  - 0.6\n",
    "* - $\\texttt{T}$ \n",
    "  - 0.05\n",
    "  - 0.15\n",
    "```\n",
    "\n",
    "To answer this independence question, let us reflect the following: \n",
    "\n",
    "> Can we come up with a value of $P(X = \\texttt{H})$ and a value of $P(Y = \\texttt{H})$ such that the joint probabilities match the above joint distribution?\n",
    "\n",
    "It turns out we can! Let us first compute the marginals. Here, we have:\n",
    "\n",
    "```{math}\n",
    "\\begin{align*}\n",
    "P(X = \\texttt{H}) &= P(X = \\texttt{H} \\cap Y = \\texttt{H}) + P(X = \\texttt{H} \\cap Y = \\texttt{T}) \\\\\n",
    "&= 0.2 + 0.6 \\\\\n",
    "&= 0.8.\n",
    "\\end{align*}\n",
    "```\n",
    "\n",
    "By the Law of Total Probability, we can obtain:\n",
    "\n",
    "```{math}\n",
    "\\begin{align*}\n",
    "P(X = \\texttt{T}) &= 1 - P(X = \\texttt{H})\\\\\n",
    "&= 1 - 0.8 \\\\\n",
    "&= 0.2.\n",
    "\\end{align*}\n",
    "```\n",
    "\n",
    "And likewise for the second coin:\n",
    "\n",
    "```{math}\n",
    "\\begin{align*}\n",
    "P(Y = \\texttt{H}) &= P(X = \\texttt{H} \\cap Y = \\texttt{H}) + P(X = \\texttt{T} \\cap Y = \\texttt{H}) \\\\\n",
    "&= 0.2 + 0.05 \\\\\n",
    "&= 0.25.\n",
    "\\end{align*}\n",
    "```\n",
    "\n",
    "And, by the Law of Total Probability, we have that:\n",
    "\n",
    "```{math}\n",
    "\\begin{align*}\n",
    "P(Y = \\texttt{T}) &= 1 - P(Y = \\texttt{H})\\\\\n",
    "&= 1 - 0.25 \\\\\n",
    "&= 0.75.\n",
    "\\end{align*}\n",
    "```\n",
    "\n",
    "Now, that last thing we need to do is check whether the joint distribution, from {numref}`joint-dist-coins-3`, satisfies the definition of independence:\n",
    "\n",
    "$$P(X = x \\cap Y = y) = P(X = x) \\cdot P(Y = y).$$\n",
    "\n",
    "**If $X$ and $Y$ are independent**, then the following computations will match {numref}`joint-dist-coins-3`:\n",
    "\n",
    "```{math}\n",
    "\\begin{align*}\n",
    "P(X = \\texttt{H} \\cap Y = \\texttt{H}) &= P(X = \\texttt{H}) \\cdot P(Y = \\texttt{H}) \\\\ \n",
    "&= 0.8 \\cdot 0.25 \\\\ \n",
    "&= 0.2 \\\\\n",
    "P(X = \\texttt{H} \\cap Y = \\texttt{T}) &= P(X = \\texttt{H}) \\cdot P(Y = \\texttt{T}) \\\\ \n",
    "&= 0.8 \\cdot 0.75 \\\\ \n",
    "&= 0.6 \\\\\n",
    "P(X = \\texttt{T} \\cap Y = \\texttt{H}) &= P(X = \\texttt{T}) \\cdot P(Y = \\texttt{H}) \\\\ \n",
    "&= 0.2 \\cdot 0.25 \\\\ \n",
    "&= 0.05 \\\\\n",
    "P(X = \\texttt{T} \\cap Y = \\texttt{T}) &= P(X = \\texttt{T}) \\cdot P(Y = \\texttt{T}) \\\\ \n",
    "&= 0.2 \\cdot 0.75  \\\\ \n",
    "&= 0.15.\n",
    "\\end{align*}\n",
    "```\n",
    "\n",
    "And so, we again see that the two coins from {numref}`joint-dist-coins-3` are independent!\n",
    "\n",
    "Finally, here is a quick example of two coins that are definitely **NOT** independent:\n",
    "\n",
    "```{list-table} Another joint probability distribution of two coin tosses\n",
    ":header-rows: 1\n",
    ":name: joint-dist-coins-4\n",
    "\n",
    "* - $X/Y$\n",
    "  - $\\texttt{H}$ \n",
    "  - $\\texttt{T}$ \n",
    "* - $\\texttt{H}$ \n",
    "  - 0.5\n",
    "  - 0\n",
    "* - $\\texttt{T}$ \n",
    "  - 0\n",
    "  - 0.5\n",
    "```\n",
    "\n",
    "In {numref}`joint-dist-coins-4`, the marginals are both 0.5 (the same marginals as our earlier example!), but the joint is not the product of the marginals. In fact, these two coins are **completely dependent**: if one is heads, then the other is always heads, and if one is tails then the other is always tails ($\\texttt{HT}$ and $\\texttt{TH}$ have probability zero)."
   ]
  },
  {
   "cell_type": "markdown",
   "id": "691d541d",
   "metadata": {},
   "source": [
    "### 2.2. Measures of Dependence\n",
    "\n",
    "Next, if two random variables **ARE NOT** independent, how can we go about measuring the strength/amount of dependence between these two random variables? For example, if the two coins above are \"completely dependent,\" can we quantify this?"
   ]
  },
  {
   "cell_type": "markdown",
   "id": "067ea818",
   "metadata": {
    "editable": true,
    "slideshow": {
     "slide_type": ""
    },
    "tags": []
   },
   "source": [
    "(covariance-correlation)=\n",
    "#### 2.2.1. Covariance and Pearson's Correlation\n",
    "\n",
    "**Covariance** is one common way of measuring dependence between two **numeric** random variables. Let us check its formal definition.\n",
    "\n",
    "````{admonition} Definition of Covariace\n",
    ":class: tip\n",
    "Covariance measures how much two random variables jointly vary and in what direction. Let $X$ and $Y$ be two random variables; their covariance is formally defined as follows:\n",
    "\n",
    "```{math}\n",
    ":label: covariance\n",
    "\\begin{equation*}\n",
    "\\operatorname{Cov}(X, Y) = \\mathbb{E}[(X-\\mu_X)(Y-\\mu_Y)],\n",
    "\\end{equation*}\n",
    "```\n",
    "\n",
    "where $\\mu_X = \\mathbb{E}(X)$ and $\\mu_Y = \\mathbb{E}(Y)$ are the respective means (or expected values) of $X$ and $Y$. After some algebraic and expected value manipulations, Equation {eq}`covariance` reduces to a more practical form to work with:\n",
    "\n",
    "```{math}\n",
    ":label: covariance-2\n",
    "\\begin{equation*}\n",
    "\\operatorname{Cov}(X, Y) = \\mathbb{E}(XY) - \\left[ \\mathbb{E}(X)\\mathbb{E}(Y) \\right],\n",
    "\\end{equation*}\n",
    "```\n",
    "\n",
    "where $\\mathbb{E}(XY)$ is the mean (or expected value) of the multiplication of the random variables $X$ and $Y$.\n",
    "````\n",
    "\n",
    "For the ship example involving $\\text{LOS}$ and $\\text{Gangs}$, let us recheck the corresponding `joint_distribution`:"
   ]
  },
  {
   "cell_type": "code",
   "execution_count": 10,
   "id": "ef06a207",
   "metadata": {
    "editable": true,
    "slideshow": {
     "slide_type": ""
    },
    "tags": [],
    "vscode": {
     "languageId": "r"
    }
   },
   "outputs": [
    {
     "data": {
      "text/html": [
       "<table class=\"dataframe\">\n",
       "<caption>A matrix: 5 × 4 of type dbl</caption>\n",
       "<thead>\n",
       "\t<tr><th></th><th scope=col>Gangs = 1</th><th scope=col>Gangs = 2</th><th scope=col>Gangs = 3</th><th scope=col>Gangs = 4</th></tr>\n",
       "</thead>\n",
       "<tbody>\n",
       "\t<tr><th scope=row>LOS = 1</th><td>0.00170</td><td>0.04253</td><td>0.12471</td><td>0.08106</td></tr>\n",
       "\t<tr><th scope=row>LOS = 2</th><td>0.02664</td><td>0.16981</td><td>0.13598</td><td>0.01757</td></tr>\n",
       "\t<tr><th scope=row>LOS = 3</th><td>0.05109</td><td>0.11563</td><td>0.03203</td><td>0.00125</td></tr>\n",
       "\t<tr><th scope=row>LOS = 4</th><td>0.04653</td><td>0.04744</td><td>0.00593</td><td>0.00010</td></tr>\n",
       "\t<tr><th scope=row>LOS = 5</th><td>0.07404</td><td>0.02459</td><td>0.00135</td><td>0.00002</td></tr>\n",
       "</tbody>\n",
       "</table>\n"
      ],
      "text/latex": [
       "A matrix: 5 × 4 of type dbl\n",
       "\\begin{tabular}{r|llll}\n",
       "  & Gangs = 1 & Gangs = 2 & Gangs = 3 & Gangs = 4\\\\\n",
       "\\hline\n",
       "\tLOS = 1 & 0.00170 & 0.04253 & 0.12471 & 0.08106\\\\\n",
       "\tLOS = 2 & 0.02664 & 0.16981 & 0.13598 & 0.01757\\\\\n",
       "\tLOS = 3 & 0.05109 & 0.11563 & 0.03203 & 0.00125\\\\\n",
       "\tLOS = 4 & 0.04653 & 0.04744 & 0.00593 & 0.00010\\\\\n",
       "\tLOS = 5 & 0.07404 & 0.02459 & 0.00135 & 0.00002\\\\\n",
       "\\end{tabular}\n"
      ],
      "text/markdown": [
       "\n",
       "A matrix: 5 × 4 of type dbl\n",
       "\n",
       "| <!--/--> | Gangs = 1 | Gangs = 2 | Gangs = 3 | Gangs = 4 |\n",
       "|---|---|---|---|---|\n",
       "| LOS = 1 | 0.00170 | 0.04253 | 0.12471 | 0.08106 |\n",
       "| LOS = 2 | 0.02664 | 0.16981 | 0.13598 | 0.01757 |\n",
       "| LOS = 3 | 0.05109 | 0.11563 | 0.03203 | 0.00125 |\n",
       "| LOS = 4 | 0.04653 | 0.04744 | 0.00593 | 0.00010 |\n",
       "| LOS = 5 | 0.07404 | 0.02459 | 0.00135 | 0.00002 |\n",
       "\n"
      ],
      "text/plain": [
       "        Gangs = 1 Gangs = 2 Gangs = 3 Gangs = 4\n",
       "LOS = 1 0.00170   0.04253   0.12471   0.08106  \n",
       "LOS = 2 0.02664   0.16981   0.13598   0.01757  \n",
       "LOS = 3 0.05109   0.11563   0.03203   0.00125  \n",
       "LOS = 4 0.04653   0.04744   0.00593   0.00010  \n",
       "LOS = 5 0.07404   0.02459   0.00135   0.00002  "
      ]
     },
     "metadata": {},
     "output_type": "display_data"
    }
   ],
   "source": [
    "joint_distribution"
   ]
  },
  {
   "cell_type": "markdown",
   "id": "dc92ef3f",
   "metadata": {},
   "source": [
    "Note that, in general for a larger $\\text{LOS}$, there are larger probabilities associated with a smaller gang demand; **this inverse relationship indicates negative covariance**. Now, let us code the marginal PMFs of $\\text{LOS}$ and $\\text{Gangs}$:"
   ]
  },
  {
   "cell_type": "code",
   "execution_count": 11,
   "id": "9056b8e9",
   "metadata": {
    "editable": true,
    "slideshow": {
     "slide_type": ""
    },
    "tags": [],
    "vscode": {
     "languageId": "r"
    }
   },
   "outputs": [
    {
     "data": {
      "text/html": [
       "<table class=\"dataframe\">\n",
       "<caption>A tibble: 5 × 2</caption>\n",
       "<thead>\n",
       "\t<tr><th scope=col>n_days</th><th scope=col>p</th></tr>\n",
       "\t<tr><th scope=col>&lt;dbl&gt;</th><th scope=col>&lt;dbl&gt;</th></tr>\n",
       "</thead>\n",
       "<tbody>\n",
       "\t<tr><td>1</td><td>0.25</td></tr>\n",
       "\t<tr><td>2</td><td>0.35</td></tr>\n",
       "\t<tr><td>3</td><td>0.20</td></tr>\n",
       "\t<tr><td>4</td><td>0.10</td></tr>\n",
       "\t<tr><td>5</td><td>0.10</td></tr>\n",
       "</tbody>\n",
       "</table>\n"
      ],
      "text/latex": [
       "A tibble: 5 × 2\n",
       "\\begin{tabular}{ll}\n",
       " n\\_days & p\\\\\n",
       " <dbl> & <dbl>\\\\\n",
       "\\hline\n",
       "\t 1 & 0.25\\\\\n",
       "\t 2 & 0.35\\\\\n",
       "\t 3 & 0.20\\\\\n",
       "\t 4 & 0.10\\\\\n",
       "\t 5 & 0.10\\\\\n",
       "\\end{tabular}\n"
      ],
      "text/markdown": [
       "\n",
       "A tibble: 5 × 2\n",
       "\n",
       "| n_days &lt;dbl&gt; | p &lt;dbl&gt; |\n",
       "|---|---|\n",
       "| 1 | 0.25 |\n",
       "| 2 | 0.35 |\n",
       "| 3 | 0.20 |\n",
       "| 4 | 0.10 |\n",
       "| 5 | 0.10 |\n",
       "\n"
      ],
      "text/plain": [
       "  n_days p   \n",
       "1 1      0.25\n",
       "2 2      0.35\n",
       "3 3      0.20\n",
       "4 4      0.10\n",
       "5 5      0.10"
      ]
     },
     "metadata": {},
     "output_type": "display_data"
    }
   ],
   "source": [
    "Marginal_PMF_LOS <- tribble(\n",
    "  ~n_days, ~p,\n",
    "  1, 0.25,\n",
    "  2, 0.35,\n",
    "  3, 0.2,\n",
    "  4, 0.1,\n",
    "  5, 0.1\n",
    ")\n",
    "Marginal_PMF_LOS"
   ]
  },
  {
   "cell_type": "code",
   "execution_count": 12,
   "id": "e7fc2bb4",
   "metadata": {
    "vscode": {
     "languageId": "r"
    }
   },
   "outputs": [
    {
     "data": {
      "text/html": [
       "<table class=\"dataframe\">\n",
       "<caption>A tibble: 4 × 2</caption>\n",
       "<thead>\n",
       "\t<tr><th scope=col>n_gangs</th><th scope=col>p</th></tr>\n",
       "\t<tr><th scope=col>&lt;dbl&gt;</th><th scope=col>&lt;dbl&gt;</th></tr>\n",
       "</thead>\n",
       "<tbody>\n",
       "\t<tr><td>1</td><td>0.2</td></tr>\n",
       "\t<tr><td>2</td><td>0.4</td></tr>\n",
       "\t<tr><td>3</td><td>0.3</td></tr>\n",
       "\t<tr><td>4</td><td>0.1</td></tr>\n",
       "</tbody>\n",
       "</table>\n"
      ],
      "text/latex": [
       "A tibble: 4 × 2\n",
       "\\begin{tabular}{ll}\n",
       " n\\_gangs & p\\\\\n",
       " <dbl> & <dbl>\\\\\n",
       "\\hline\n",
       "\t 1 & 0.2\\\\\n",
       "\t 2 & 0.4\\\\\n",
       "\t 3 & 0.3\\\\\n",
       "\t 4 & 0.1\\\\\n",
       "\\end{tabular}\n"
      ],
      "text/markdown": [
       "\n",
       "A tibble: 4 × 2\n",
       "\n",
       "| n_gangs &lt;dbl&gt; | p &lt;dbl&gt; |\n",
       "|---|---|\n",
       "| 1 | 0.2 |\n",
       "| 2 | 0.4 |\n",
       "| 3 | 0.3 |\n",
       "| 4 | 0.1 |\n",
       "\n"
      ],
      "text/plain": [
       "  n_gangs p  \n",
       "1 1       0.2\n",
       "2 2       0.4\n",
       "3 3       0.3\n",
       "4 4       0.1"
      ]
     },
     "metadata": {},
     "output_type": "display_data"
    }
   ],
   "source": [
    "Marginal_PMF_Gangs <- tribble(\n",
    "  ~n_gangs, ~p,\n",
    "  1, 0.2,\n",
    "  2, 0.4,\n",
    "  3, 0.3,\n",
    "  4, 0.1,\n",
    ")\n",
    "Marginal_PMF_Gangs"
   ]
  },
  {
   "cell_type": "markdown",
   "id": "2cd8c5bd",
   "metadata": {},
   "source": [
    "Using our `joint_distribution`, along with `Marginal_PMF_LOS` and `Marginal_PMF_Gangs`, we can calculate the covariance using Equation {eq}`covariance-2`. First of all, let us compute the corresponding marginal expected values:"
   ]
  },
  {
   "cell_type": "code",
   "execution_count": 13,
   "id": "6f39452f",
   "metadata": {
    "vscode": {
     "languageId": "r"
    }
   },
   "outputs": [
    {
     "data": {
      "text/html": [
       "2.45"
      ],
      "text/latex": [
       "2.45"
      ],
      "text/markdown": [
       "2.45"
      ],
      "text/plain": [
       "[1] 2.45"
      ]
     },
     "metadata": {},
     "output_type": "display_data"
    }
   ],
   "source": [
    "# Expected value of LOS, E(LOS)\n",
    "E_LOS <- sum(Marginal_PMF_LOS$n_days * Marginal_PMF_LOS$p)\n",
    "E_LOS"
   ]
  },
  {
   "cell_type": "code",
   "execution_count": 14,
   "id": "ba98ea70",
   "metadata": {
    "vscode": {
     "languageId": "r"
    }
   },
   "outputs": [
    {
     "data": {
      "text/html": [
       "2.3"
      ],
      "text/latex": [
       "2.3"
      ],
      "text/markdown": [
       "2.3"
      ],
      "text/plain": [
       "[1] 2.3"
      ]
     },
     "metadata": {},
     "output_type": "display_data"
    }
   ],
   "source": [
    "# Expected value of Gangs, E(Gangs)\n",
    "E_Gangs <- sum(Marginal_PMF_Gangs$n_gangs * Marginal_PMF_Gangs$p)\n",
    "E_Gangs"
   ]
  },
  {
   "cell_type": "markdown",
   "id": "bf14d336",
   "metadata": {},
   "source": [
    "Now, we need the expected value of the multiplication of both random variables. But firstly, we need to \"*melt*\" our `joint_distribution` matrix as follows:"
   ]
  },
  {
   "cell_type": "code",
   "execution_count": 15,
   "id": "bdeee8c8",
   "metadata": {
    "vscode": {
     "languageId": "r"
    }
   },
   "outputs": [
    {
     "data": {
      "text/html": [
       "<table class=\"dataframe\">\n",
       "<caption>A data.frame: 20 × 3</caption>\n",
       "<thead>\n",
       "\t<tr><th scope=col>LOS</th><th scope=col>Gangs</th><th scope=col>p</th></tr>\n",
       "\t<tr><th scope=col>&lt;dbl&gt;</th><th scope=col>&lt;int&gt;</th><th scope=col>&lt;dbl&gt;</th></tr>\n",
       "</thead>\n",
       "<tbody>\n",
       "\t<tr><td>1</td><td>1</td><td>0.00170</td></tr>\n",
       "\t<tr><td>1</td><td>2</td><td>0.04253</td></tr>\n",
       "\t<tr><td>1</td><td>3</td><td>0.12471</td></tr>\n",
       "\t<tr><td>1</td><td>4</td><td>0.08106</td></tr>\n",
       "\t<tr><td>2</td><td>1</td><td>0.02664</td></tr>\n",
       "\t<tr><td>2</td><td>2</td><td>0.16981</td></tr>\n",
       "\t<tr><td>2</td><td>3</td><td>0.13598</td></tr>\n",
       "\t<tr><td>2</td><td>4</td><td>0.01757</td></tr>\n",
       "\t<tr><td>3</td><td>1</td><td>0.05109</td></tr>\n",
       "\t<tr><td>3</td><td>2</td><td>0.11563</td></tr>\n",
       "\t<tr><td>3</td><td>3</td><td>0.03203</td></tr>\n",
       "\t<tr><td>3</td><td>4</td><td>0.00125</td></tr>\n",
       "\t<tr><td>4</td><td>1</td><td>0.04653</td></tr>\n",
       "\t<tr><td>4</td><td>2</td><td>0.04744</td></tr>\n",
       "\t<tr><td>4</td><td>3</td><td>0.00593</td></tr>\n",
       "\t<tr><td>4</td><td>4</td><td>0.00010</td></tr>\n",
       "\t<tr><td>5</td><td>1</td><td>0.07404</td></tr>\n",
       "\t<tr><td>5</td><td>2</td><td>0.02459</td></tr>\n",
       "\t<tr><td>5</td><td>3</td><td>0.00135</td></tr>\n",
       "\t<tr><td>5</td><td>4</td><td>0.00002</td></tr>\n",
       "</tbody>\n",
       "</table>\n"
      ],
      "text/latex": [
       "A data.frame: 20 × 3\n",
       "\\begin{tabular}{lll}\n",
       " LOS & Gangs & p\\\\\n",
       " <dbl> & <int> & <dbl>\\\\\n",
       "\\hline\n",
       "\t 1 & 1 & 0.00170\\\\\n",
       "\t 1 & 2 & 0.04253\\\\\n",
       "\t 1 & 3 & 0.12471\\\\\n",
       "\t 1 & 4 & 0.08106\\\\\n",
       "\t 2 & 1 & 0.02664\\\\\n",
       "\t 2 & 2 & 0.16981\\\\\n",
       "\t 2 & 3 & 0.13598\\\\\n",
       "\t 2 & 4 & 0.01757\\\\\n",
       "\t 3 & 1 & 0.05109\\\\\n",
       "\t 3 & 2 & 0.11563\\\\\n",
       "\t 3 & 3 & 0.03203\\\\\n",
       "\t 3 & 4 & 0.00125\\\\\n",
       "\t 4 & 1 & 0.04653\\\\\n",
       "\t 4 & 2 & 0.04744\\\\\n",
       "\t 4 & 3 & 0.00593\\\\\n",
       "\t 4 & 4 & 0.00010\\\\\n",
       "\t 5 & 1 & 0.07404\\\\\n",
       "\t 5 & 2 & 0.02459\\\\\n",
       "\t 5 & 3 & 0.00135\\\\\n",
       "\t 5 & 4 & 0.00002\\\\\n",
       "\\end{tabular}\n"
      ],
      "text/markdown": [
       "\n",
       "A data.frame: 20 × 3\n",
       "\n",
       "| LOS &lt;dbl&gt; | Gangs &lt;int&gt; | p &lt;dbl&gt; |\n",
       "|---|---|---|\n",
       "| 1 | 1 | 0.00170 |\n",
       "| 1 | 2 | 0.04253 |\n",
       "| 1 | 3 | 0.12471 |\n",
       "| 1 | 4 | 0.08106 |\n",
       "| 2 | 1 | 0.02664 |\n",
       "| 2 | 2 | 0.16981 |\n",
       "| 2 | 3 | 0.13598 |\n",
       "| 2 | 4 | 0.01757 |\n",
       "| 3 | 1 | 0.05109 |\n",
       "| 3 | 2 | 0.11563 |\n",
       "| 3 | 3 | 0.03203 |\n",
       "| 3 | 4 | 0.00125 |\n",
       "| 4 | 1 | 0.04653 |\n",
       "| 4 | 2 | 0.04744 |\n",
       "| 4 | 3 | 0.00593 |\n",
       "| 4 | 4 | 0.00010 |\n",
       "| 5 | 1 | 0.07404 |\n",
       "| 5 | 2 | 0.02459 |\n",
       "| 5 | 3 | 0.00135 |\n",
       "| 5 | 4 | 0.00002 |\n",
       "\n"
      ],
      "text/plain": [
       "   LOS Gangs p      \n",
       "1  1   1     0.00170\n",
       "2  1   2     0.04253\n",
       "3  1   3     0.12471\n",
       "4  1   4     0.08106\n",
       "5  2   1     0.02664\n",
       "6  2   2     0.16981\n",
       "7  2   3     0.13598\n",
       "8  2   4     0.01757\n",
       "9  3   1     0.05109\n",
       "10 3   2     0.11563\n",
       "11 3   3     0.03203\n",
       "12 3   4     0.00125\n",
       "13 4   1     0.04653\n",
       "14 4   2     0.04744\n",
       "15 4   3     0.00593\n",
       "16 4   4     0.00010\n",
       "17 5   1     0.07404\n",
       "18 5   2     0.02459\n",
       "19 5   3     0.00135\n",
       "20 5   4     0.00002"
      ]
     },
     "metadata": {},
     "output_type": "display_data"
    }
   ],
   "source": [
    "# Melting (manually!) our matrix containing the joing distribution of LOS and Gangs\n",
    "joint_distribution <- data.frame(\n",
    "  LOS = c(rep(1, 4), rep(2, 4), rep(3, 4), rep(4, 4), rep(5, 4)), Gangs = rep(1:4, 5),\n",
    "  p = c(\n",
    "    0.00170, 0.04253, 0.12471, 0.08106,\n",
    "    0.02664, 0.16981, 0.13598, 0.01757,\n",
    "    0.05109, 0.11563, 0.03203, 0.00125,\n",
    "    0.04653, 0.04744, 0.00593, 0.00010,\n",
    "    0.07404, 0.02459, 0.00135, 0.00002\n",
    "  )\n",
    ")\n",
    "joint_distribution"
   ]
  },
  {
   "cell_type": "markdown",
   "id": "1d80710a",
   "metadata": {},
   "source": [
    "Then, we compute the corresponding **crossed expected value**:"
   ]
  },
  {
   "cell_type": "code",
   "execution_count": 16,
   "id": "655192c2",
   "metadata": {
    "vscode": {
     "languageId": "r"
    }
   },
   "outputs": [
    {
     "data": {
      "text/html": [
       "4.89956"
      ],
      "text/latex": [
       "4.89956"
      ],
      "text/markdown": [
       "4.89956"
      ],
      "text/plain": [
       "[1] 4.89956"
      ]
     },
     "metadata": {},
     "output_type": "display_data"
    }
   ],
   "source": [
    "# Expected value LOS times Gangs, E(LOS x Gangs)\n",
    "E_LOS_Gangs <- sum(joint_distribution$LOS * joint_distribution$Gangs * joint_distribution$p)\n",
    "E_LOS_Gangs"
   ]
  },
  {
   "cell_type": "markdown",
   "id": "e320eb37",
   "metadata": {},
   "source": [
    "The above numeric results are plugged in Equation {eq}`covariance-2`:"
   ]
  },
  {
   "cell_type": "markdown",
   "id": "b0af93ee",
   "metadata": {},
   "source": [
    "```{math}\n",
    "\\begin{align*}\n",
    "\\operatorname{Cov}(\\text{LOS}, \\text{Gangs}) &= \\mathbb{E}(\\text{LOS} \\cdot \\text{Gangs}) - \\mathbb{E}(\\text{LOS})\\mathbb{E}(\\text{Gangs}) \\\\\n",
    "&= 4.89956 - \\left[ (2.45)(2.3) \\right] \\\\\n",
    "&= -0.73544.\n",
    "\\end{align*}\n",
    "```"
   ]
  },
  {
   "cell_type": "markdown",
   "id": "ec1e942e",
   "metadata": {
    "editable": true,
    "slideshow": {
     "slide_type": ""
    },
    "tags": []
   },
   "source": [
    "Indeed, we can see that the covariance between $\\text{LOS}$ and $\\text{Gangs}$ is negative.\n",
    "\n",
    "```{important} \n",
    "The sign of the covariance can be interpreted as follows:\n",
    "\n",
    "- **Positive covariance** indicates that an increase in one variable is associated with an increase in the other variable.\n",
    "- **Negative covariance** indicates that an increase in one variable is associated with a decrease in the other variable.\n",
    "- **Zero covariance** indicates that there is no **linear** trend -- but this does not necessarily mean that $X$ and $Y$ are independent!\n",
    "```\n",
    "\n",
    "It turns out covariance by itself is not very interpretable, because it depends on the spread of the random variables $X$ and $Y$. For example, if we multiply $X$ by 10, then the covariance of $X$ and $Y$ increases by a factor of 10 as well: \n",
    "\n",
    "```{math}\n",
    "\\begin{align*}\n",
    "\\operatorname{Cov}(10X,Y) &= \\mathbb{E}(10XY) - \\mathbb{E}(10X) \\mathbb{E}(Y) \\\\\n",
    "&= 10\\mathbb{E}(XY) - 10\\mathbb{E}(X)\\mathbb{E}(Y) \\\\\n",
    "&= 10[\\mathbb{E}(XY) - \\mathbb{E}(X) \\mathbb{E}(Y)] \\\\\n",
    "&= 10\\operatorname{Cov}(X,Y).\n",
    "\\end{align*}\n",
    "```\n",
    "\n",
    "The scale problem in the covariance is fixed by **Pearson's correlation**. Let us formally define it.\n",
    "\n",
    "````{admonition} Definition of Pearson's Correlation\n",
    ":class: tip\n",
    "Let $X$ and $Y$ be two random variables, whose respective variances are defined by Equation {eq}`variance`, with a covariance defined as in Equation {eq}`covariance-2`. Pearson's correlation **standardizes** the distances according to the standard deviations $\\sigma_X$ and $\\sigma_Y$ of $X$ and $Y$, respectively. It is defined as (*note proof is skipped*):\n",
    "\n",
    "```{math}\n",
    ":label: pearson-coefficient\n",
    "\\begin{align*}\n",
    "\\rho_{XY} = \\operatorname{Corr}(X, Y) &= \\mathbb{E} \\left[ \n",
    "   \\left(\\frac{X-\\mu_X}{\\sigma_X}\\right) \n",
    "   \\left(\\frac{Y-\\mu_Y}{\\sigma_Y}\\right)\n",
    " \\right] \\\\\n",
    " &= \\frac{\\operatorname{Cov}(X, Y)}{\\sqrt{\\operatorname{Var}(X)\\operatorname{Var}(Y)}}.\n",
    "\\end{align*}\n",
    "```\n",
    "\n",
    "As a result of Equation {eq}`pearson-coefficient`, it turns out that\n",
    "\n",
    "$$-1 \\leq \\rho_{XY} \\leq 1.$$\n",
    "````\n",
    "\n",
    "```{important} \n",
    "Pearson's correlation measures the **strength of linear dependence**:\n",
    "\n",
    "- $-1$ means a perfect negative linear relationship between $X$ and $Y$.\n",
    "- $0$ means no linear relationship (**however, this does not mean independence!**).\n",
    "- $1$ means a perfect positive linear relationship.\n",
    "\n",
    "Pearson's correlation is ubiquitous and is often what is meant when \"correlation\" is referred to.\n",
    "```"
   ]
  },
  {
   "cell_type": "markdown",
   "id": "8fa04f6c",
   "metadata": {
    "editable": true,
    "slideshow": {
     "slide_type": ""
    },
    "tags": []
   },
   "source": [
    "```{exercise}\n",
    ":label: lecture3-q2\n",
    "\n",
    "Answer **TRUE** or **FALSE**:\n",
    "\n",
    "Covariance can be negative, but not the variance.\n",
    "\n",
    "**A.** TRUE\n",
    "\n",
    "**B.** FALSE\n",
    "```"
   ]
  },
  {
   "cell_type": "markdown",
   "id": "cb44bbc7",
   "metadata": {},
   "source": [
    "```{exercise}\n",
    ":label: lecture3-q3\n",
    "\n",
    "Answer **TRUE** or **FALSE**:\n",
    "\n",
    "Without any further assumptions between random variables $X$ and $Y$, covariance is calculated as \n",
    "\n",
    "$$\\operatorname{Cov}(X,Y) = \\mathbb{E}(XY) - \\left[ \\mathbb{E}(X) \\mathbb{E}(Y) \\right].$$ \n",
    "\n",
    "Computing $\\mathbb{E}(XY)$ requires the joint distribution, but computing $\\mathbb{E}(X) \\mathbb{E}(Y)$ only requires the marginals.\n",
    "\n",
    "**A.** TRUE\n",
    "\n",
    "**B.** FALSE\n",
    "```"
   ]
  },
  {
   "cell_type": "markdown",
   "id": "477c73f6",
   "metadata": {
    "editable": true,
    "slideshow": {
     "slide_type": ""
    },
    "tags": []
   },
   "source": [
    "(kendall-tau)=\n",
    "#### 2.2.2. Kendall's $\\tau_K$\n",
    "\n",
    "As mentioned before, although Pearson's correlation is ubiquitous, its forced adherence to measuring **linear dependence** is a big downfall, especially because many relationships between real-world variables are not linear. Hence, there is an alternative measure called Kendall's $\\tau_K$. Its formal definition can be found below.\n",
    "\n",
    "````{admonition} Definition of Kendall's $\\tau_K$\n",
    ":class: tip\n",
    "Kendall's $\\tau_K$ is an alternative measure of dependence between random variables $X$ and $Y$. Unlike Pearson's correlation, which measures linear dependence, Kendall's $\\tau_K$ can measure non-linear dependence.\n",
    "\n",
    "That said, instead of measuring **concordance** between each observation $(x, y)$ and the means $(\\mu_x, \\mu_y)$, it measures concordance between **each pair** of observations $(x_i, y_i)$ and $(x_j, y_j)$ with $i \\neq j$:\n",
    "\n",
    "- **Concordant**, which gets a positive sign, means \n",
    "```{math}\n",
    "\\begin{gather*}\n",
    "x_i < x_j \\quad \\text{and} \\quad y_i < y_j, \\\\\n",
    "\\text{or} \\\\\n",
    "x_i > x_j \\quad \\text{and} \\quad y_i > y_j.\n",
    "\\end{gather*}\n",
    "```\n",
    "- **Discordant**, which gets a negative sign, means\n",
    "```{math}\n",
    "\\begin{gather*}\n",
    "x_i < x_j \\quad \\text{and} \\quad y_i > y_j, \\\\\n",
    "\\text{or} \\\\\n",
    "x_i > x_j \\quad \\text{and} \\quad y_i < y_j.\n",
    "\\end{gather*}\n",
    "```\n",
    "\n",
    "The formal definition is\n",
    "\n",
    "$$\\tau_K = \\frac{\\text{Number of concordant pairs} - \\text{Number of discordant pairs}}{{n \\choose 2}},$$\n",
    "\n",
    "with the \"true\" Kendall's $\\tau_K$ value obtained by sending $n \\rightarrow \\infty$ (this is the **estimation paradigm** in frequentist Statistics!). Here, $n$ is the sample size (i.e., the number of data points).\n",
    "````\n",
    "\n",
    "**As in Pearson's correlation**, Kendall's $\\tau_K$ is between -1 and 1, and measures dependence's strength (and direction). For instance, consider the two correlation measures for the following hypothetical dataset plotted below. Note that we are creating this dataset as follows:\n",
    "\n",
    "$$y = x^{1/3},$$\n",
    "\n",
    "which is a non-linear dependency between `x` and `y`. Moreover, we are creating a sequence for `x` from `0` to `100` by `5`."
   ]
  },
  {
   "cell_type": "code",
   "execution_count": 17,
   "id": "4f8cc1c6",
   "metadata": {
    "editable": true,
    "slideshow": {
     "slide_type": ""
    },
    "tags": [],
    "vscode": {
     "languageId": "r"
    }
   },
   "outputs": [
    {
     "data": {
      "text/html": [
       "<table class=\"dataframe\">\n",
       "<caption>A tibble: 21 × 2</caption>\n",
       "<thead>\n",
       "\t<tr><th scope=col>x</th><th scope=col>y</th></tr>\n",
       "\t<tr><th scope=col>&lt;dbl&gt;</th><th scope=col>&lt;dbl&gt;</th></tr>\n",
       "</thead>\n",
       "<tbody>\n",
       "\t<tr><td>  0</td><td>0.000000</td></tr>\n",
       "\t<tr><td>  5</td><td>1.709976</td></tr>\n",
       "\t<tr><td> 10</td><td>2.154435</td></tr>\n",
       "\t<tr><td> 15</td><td>2.466212</td></tr>\n",
       "\t<tr><td> 20</td><td>2.714418</td></tr>\n",
       "\t<tr><td> 25</td><td>2.924018</td></tr>\n",
       "\t<tr><td> 30</td><td>3.107233</td></tr>\n",
       "\t<tr><td> 35</td><td>3.271066</td></tr>\n",
       "\t<tr><td> 40</td><td>3.419952</td></tr>\n",
       "\t<tr><td> 45</td><td>3.556893</td></tr>\n",
       "\t<tr><td> 50</td><td>3.684031</td></tr>\n",
       "\t<tr><td> 55</td><td>3.802952</td></tr>\n",
       "\t<tr><td> 60</td><td>3.914868</td></tr>\n",
       "\t<tr><td> 65</td><td>4.020726</td></tr>\n",
       "\t<tr><td> 70</td><td>4.121285</td></tr>\n",
       "\t<tr><td> 75</td><td>4.217163</td></tr>\n",
       "\t<tr><td> 80</td><td>4.308869</td></tr>\n",
       "\t<tr><td> 85</td><td>4.396830</td></tr>\n",
       "\t<tr><td> 90</td><td>4.481405</td></tr>\n",
       "\t<tr><td> 95</td><td>4.562903</td></tr>\n",
       "\t<tr><td>100</td><td>4.641589</td></tr>\n",
       "</tbody>\n",
       "</table>\n"
      ],
      "text/latex": [
       "A tibble: 21 × 2\n",
       "\\begin{tabular}{ll}\n",
       " x & y\\\\\n",
       " <dbl> & <dbl>\\\\\n",
       "\\hline\n",
       "\t   0 & 0.000000\\\\\n",
       "\t   5 & 1.709976\\\\\n",
       "\t  10 & 2.154435\\\\\n",
       "\t  15 & 2.466212\\\\\n",
       "\t  20 & 2.714418\\\\\n",
       "\t  25 & 2.924018\\\\\n",
       "\t  30 & 3.107233\\\\\n",
       "\t  35 & 3.271066\\\\\n",
       "\t  40 & 3.419952\\\\\n",
       "\t  45 & 3.556893\\\\\n",
       "\t  50 & 3.684031\\\\\n",
       "\t  55 & 3.802952\\\\\n",
       "\t  60 & 3.914868\\\\\n",
       "\t  65 & 4.020726\\\\\n",
       "\t  70 & 4.121285\\\\\n",
       "\t  75 & 4.217163\\\\\n",
       "\t  80 & 4.308869\\\\\n",
       "\t  85 & 4.396830\\\\\n",
       "\t  90 & 4.481405\\\\\n",
       "\t  95 & 4.562903\\\\\n",
       "\t 100 & 4.641589\\\\\n",
       "\\end{tabular}\n"
      ],
      "text/markdown": [
       "\n",
       "A tibble: 21 × 2\n",
       "\n",
       "| x &lt;dbl&gt; | y &lt;dbl&gt; |\n",
       "|---|---|\n",
       "|   0 | 0.000000 |\n",
       "|   5 | 1.709976 |\n",
       "|  10 | 2.154435 |\n",
       "|  15 | 2.466212 |\n",
       "|  20 | 2.714418 |\n",
       "|  25 | 2.924018 |\n",
       "|  30 | 3.107233 |\n",
       "|  35 | 3.271066 |\n",
       "|  40 | 3.419952 |\n",
       "|  45 | 3.556893 |\n",
       "|  50 | 3.684031 |\n",
       "|  55 | 3.802952 |\n",
       "|  60 | 3.914868 |\n",
       "|  65 | 4.020726 |\n",
       "|  70 | 4.121285 |\n",
       "|  75 | 4.217163 |\n",
       "|  80 | 4.308869 |\n",
       "|  85 | 4.396830 |\n",
       "|  90 | 4.481405 |\n",
       "|  95 | 4.562903 |\n",
       "| 100 | 4.641589 |\n",
       "\n"
      ],
      "text/plain": [
       "   x   y       \n",
       "1    0 0.000000\n",
       "2    5 1.709976\n",
       "3   10 2.154435\n",
       "4   15 2.466212\n",
       "5   20 2.714418\n",
       "6   25 2.924018\n",
       "7   30 3.107233\n",
       "8   35 3.271066\n",
       "9   40 3.419952\n",
       "10  45 3.556893\n",
       "11  50 3.684031\n",
       "12  55 3.802952\n",
       "13  60 3.914868\n",
       "14  65 4.020726\n",
       "15  70 4.121285\n",
       "16  75 4.217163\n",
       "17  80 4.308869\n",
       "18  85 4.396830\n",
       "19  90 4.481405\n",
       "20  95 4.562903\n",
       "21 100 4.641589"
      ]
     },
     "metadata": {},
     "output_type": "display_data"
    }
   ],
   "source": [
    "non_linear_pairs <- tibble(x = seq(from = 0, to = 100, by = 5), y = x^(1 /3))\n",
    "non_linear_pairs"
   ]
  },
  {
   "cell_type": "markdown",
   "id": "bc2f100b",
   "metadata": {},
   "source": [
    "The above $n = 21$ pairs from `non_linear_pairs` are plotted below. We clearly see a **non-linear relationship** between `x` and `y`."
   ]
  },
  {
   "cell_type": "code",
   "execution_count": 19,
   "id": "36206e30",
   "metadata": {
    "tags": [
     "remove-input"
    ],
    "vscode": {
     "languageId": "r"
    }
   },
   "outputs": [
    {
     "data": {
      "image/png": "[encoded data removed]",
      "text/plain": [
       "plot without title"
      ]
     },
     "metadata": {
      "image/png": {
       "height": 420,
       "width": 750
      }
     },
     "output_type": "display_data"
    }
   ],
   "source": [
    "options(repr.plot.width = 12.5)\n",
    "\n",
    "ggplot(non_linear_pairs, aes(x, y)) +\n",
    "  geom_point(size = 2.5, colour = \"dodgerblue2\") +\n",
    "  geom_line(colour = \"dodgerblue2\") +\n",
    "  theme_bw() +\n",
    "  theme(plot.title = element_text(size = 18),\n",
    "    axis.text = element_text(size = 16),\n",
    "    axis.title = element_text(size = 16, face = \"bold\")) +\n",
    "  scale_x_continuous(breaks = seq(from = 0, to = 100, by = 10)) +\n",
    "  scale_y_continuous(breaks = 0:10) +\n",
    "  ggtitle(expression(paste(\"Function \", 'y = ', x^{1/3})))"
   ]
  },
  {
   "cell_type": "markdown",
   "id": "1c51d546",
   "metadata": {
    "editable": true,
    "slideshow": {
     "slide_type": ""
    },
    "tags": []
   },
   "source": [
    "In `R`, the sample Kendall's  $\\tau_K$ can be calculated using the `cor()` function with `method = \"kendall\"`. On the other hand, Pearson's correlation can be computed via `method = \"pearson\"`."
   ]
  },
  {
   "cell_type": "code",
   "execution_count": 20,
   "id": "8a410253",
   "metadata": {
    "editable": true,
    "slideshow": {
     "slide_type": ""
    },
    "tags": [],
    "vscode": {
     "languageId": "r"
    }
   },
   "outputs": [
    {
     "data": {
      "text/html": [
       "<table>\n",
       " <thead>\n",
       "  <tr>\n",
       "   <th style=\"text-align:center;\"> Pearson </th>\n",
       "   <th style=\"text-align:center;\"> Kendall </th>\n",
       "  </tr>\n",
       " </thead>\n",
       "<tbody>\n",
       "  <tr>\n",
       "   <td style=\"text-align:center;\"> 0.9097 </td>\n",
       "   <td style=\"text-align:center;\"> 1 </td>\n",
       "  </tr>\n",
       "</tbody>\n",
       "</table>"
      ]
     },
     "metadata": {},
     "output_type": "display_data"
    }
   ],
   "source": [
    "tribble(\n",
    "  ~Pearson, ~Kendall,\n",
    "  round(cor(non_linear_pairs, method = \"pearson\")[1, 2], 4),\n",
    "  round(cor(non_linear_pairs, method = \"kendall\")[1, 2], 4)\n",
    ") %>%\n",
    "  kable(align = \"cc\", format = \"html\") %>%\n",
    "  as.character() %>%\n",
    "  display_html()"
   ]
  },
  {
   "cell_type": "markdown",
   "id": "50f229a1",
   "metadata": {
    "editable": true,
    "slideshow": {
     "slide_type": ""
    },
    "tags": []
   },
   "source": [
    "Note that this dataset's sample Pearson's correlation is not 1! Recall it measures linear dependence, which is not true in `non_linear_pairs`. On the other hand, Kendall's $\\tau_k$ only measures the strength of **monotonic dependence**; thus, it equals 1.\n",
    "\n",
    "Now, let us check a different case that does not fit the conditions for Pearson's correlation and Kendall's $\\tau_K$."
   ]
  },
  {
   "cell_type": "code",
   "execution_count": 21,
   "id": "4844735d",
   "metadata": {
    "editable": true,
    "slideshow": {
     "slide_type": ""
    },
    "tags": [],
    "vscode": {
     "languageId": "r"
    }
   },
   "outputs": [
    {
     "data": {
      "text/html": [
       "<table class=\"dataframe\">\n",
       "<caption>A tibble: 21 × 2</caption>\n",
       "<thead>\n",
       "\t<tr><th scope=col>x</th><th scope=col>y</th></tr>\n",
       "\t<tr><th scope=col>&lt;dbl&gt;</th><th scope=col>&lt;dbl&gt;</th></tr>\n",
       "</thead>\n",
       "<tbody>\n",
       "\t<tr><td>-50</td><td>2500</td></tr>\n",
       "\t<tr><td>-45</td><td>2025</td></tr>\n",
       "\t<tr><td>-40</td><td>1600</td></tr>\n",
       "\t<tr><td>-35</td><td>1225</td></tr>\n",
       "\t<tr><td>-30</td><td> 900</td></tr>\n",
       "\t<tr><td>-25</td><td> 625</td></tr>\n",
       "\t<tr><td>-20</td><td> 400</td></tr>\n",
       "\t<tr><td>-15</td><td> 225</td></tr>\n",
       "\t<tr><td>-10</td><td> 100</td></tr>\n",
       "\t<tr><td> -5</td><td>  25</td></tr>\n",
       "\t<tr><td>  0</td><td>   0</td></tr>\n",
       "\t<tr><td>  5</td><td>  25</td></tr>\n",
       "\t<tr><td> 10</td><td> 100</td></tr>\n",
       "\t<tr><td> 15</td><td> 225</td></tr>\n",
       "\t<tr><td> 20</td><td> 400</td></tr>\n",
       "\t<tr><td> 25</td><td> 625</td></tr>\n",
       "\t<tr><td> 30</td><td> 900</td></tr>\n",
       "\t<tr><td> 35</td><td>1225</td></tr>\n",
       "\t<tr><td> 40</td><td>1600</td></tr>\n",
       "\t<tr><td> 45</td><td>2025</td></tr>\n",
       "\t<tr><td> 50</td><td>2500</td></tr>\n",
       "</tbody>\n",
       "</table>\n"
      ],
      "text/latex": [
       "A tibble: 21 × 2\n",
       "\\begin{tabular}{ll}\n",
       " x & y\\\\\n",
       " <dbl> & <dbl>\\\\\n",
       "\\hline\n",
       "\t -50 & 2500\\\\\n",
       "\t -45 & 2025\\\\\n",
       "\t -40 & 1600\\\\\n",
       "\t -35 & 1225\\\\\n",
       "\t -30 &  900\\\\\n",
       "\t -25 &  625\\\\\n",
       "\t -20 &  400\\\\\n",
       "\t -15 &  225\\\\\n",
       "\t -10 &  100\\\\\n",
       "\t  -5 &   25\\\\\n",
       "\t   0 &    0\\\\\n",
       "\t   5 &   25\\\\\n",
       "\t  10 &  100\\\\\n",
       "\t  15 &  225\\\\\n",
       "\t  20 &  400\\\\\n",
       "\t  25 &  625\\\\\n",
       "\t  30 &  900\\\\\n",
       "\t  35 & 1225\\\\\n",
       "\t  40 & 1600\\\\\n",
       "\t  45 & 2025\\\\\n",
       "\t  50 & 2500\\\\\n",
       "\\end{tabular}\n"
      ],
      "text/markdown": [
       "\n",
       "A tibble: 21 × 2\n",
       "\n",
       "| x &lt;dbl&gt; | y &lt;dbl&gt; |\n",
       "|---|---|\n",
       "| -50 | 2500 |\n",
       "| -45 | 2025 |\n",
       "| -40 | 1600 |\n",
       "| -35 | 1225 |\n",
       "| -30 |  900 |\n",
       "| -25 |  625 |\n",
       "| -20 |  400 |\n",
       "| -15 |  225 |\n",
       "| -10 |  100 |\n",
       "|  -5 |   25 |\n",
       "|   0 |    0 |\n",
       "|   5 |   25 |\n",
       "|  10 |  100 |\n",
       "|  15 |  225 |\n",
       "|  20 |  400 |\n",
       "|  25 |  625 |\n",
       "|  30 |  900 |\n",
       "|  35 | 1225 |\n",
       "|  40 | 1600 |\n",
       "|  45 | 2025 |\n",
       "|  50 | 2500 |\n",
       "\n"
      ],
      "text/plain": [
       "   x   y   \n",
       "1  -50 2500\n",
       "2  -45 2025\n",
       "3  -40 1600\n",
       "4  -35 1225\n",
       "5  -30  900\n",
       "6  -25  625\n",
       "7  -20  400\n",
       "8  -15  225\n",
       "9  -10  100\n",
       "10  -5   25\n",
       "11   0    0\n",
       "12   5   25\n",
       "13  10  100\n",
       "14  15  225\n",
       "15  20  400\n",
       "16  25  625\n",
       "17  30  900\n",
       "18  35 1225\n",
       "19  40 1600\n",
       "20  45 2025\n",
       "21  50 2500"
      ]
     },
     "metadata": {},
     "output_type": "display_data"
    }
   ],
   "source": [
    "parabola_pairs <- tibble(x = seq(from = -50, to = 50, by = 5), y = x^2)\n",
    "parabola_pairs"
   ]
  },
  {
   "cell_type": "code",
   "execution_count": 22,
   "id": "2ff31289",
   "metadata": {
    "tags": [
     "remove-input"
    ],
    "vscode": {
     "languageId": "r"
    }
   },
   "outputs": [
    {
     "data": {
      "image/png": "[encoded data removed]",
      "text/plain": [
       "plot without title"
      ]
     },
     "metadata": {
      "image/png": {
       "height": 420,
       "width": 750
      }
     },
     "output_type": "display_data"
    }
   ],
   "source": [
    "ggplot(parabola_pairs, aes(x, y)) +\n",
    "  geom_point(size = 2.5, colour = \"orangered3\") +\n",
    "  geom_line(colour = \"orangered3\") +\n",
    "  theme_bw() +\n",
    "  theme(plot.title = element_text(size = 18),\n",
    "    axis.text = element_text(size = 16),\n",
    "    axis.title = element_text(size = 16, face = \"bold\")) +\n",
    "  scale_x_continuous(breaks = seq(from = -50, to = 50, by = 10)) +\n",
    "  scale_y_continuous(breaks = seq(from = 0, to = 2500, by = 500)) +\n",
    "  ggtitle(expression(paste(\"Function \", 'y = ', x^2)))"
   ]
  },
  {
   "cell_type": "markdown",
   "id": "5d376de1",
   "metadata": {},
   "source": [
    "Patterns like the above parabola are not monotonically increasing or decreasing (i.e., there is no monotonic dependence!). Hence, this matter will not even be captured by Kendall's $\\tau_K$ either:"
   ]
  },
  {
   "cell_type": "code",
   "execution_count": 23,
   "id": "544197dd",
   "metadata": {
    "vscode": {
     "languageId": "r"
    }
   },
   "outputs": [
    {
     "data": {
      "text/html": [
       "<table>\n",
       " <thead>\n",
       "  <tr>\n",
       "   <th style=\"text-align:center;\"> Pearson </th>\n",
       "   <th style=\"text-align:center;\"> Kendall </th>\n",
       "  </tr>\n",
       " </thead>\n",
       "<tbody>\n",
       "  <tr>\n",
       "   <td style=\"text-align:center;\"> 0 </td>\n",
       "   <td style=\"text-align:center;\"> 0 </td>\n",
       "  </tr>\n",
       "</tbody>\n",
       "</table>"
      ]
     },
     "metadata": {},
     "output_type": "display_data"
    }
   ],
   "source": [
    "tribble(\n",
    "    ~ Pearson, ~ Kendall,\n",
    "    round(cor(parabola_pairs, method = \"pearson\")[1,2], 4), \n",
    "    round(cor(parabola_pairs, method = \"kendall\")[1,2], 4)\n",
    ") %>%\n",
    "  kable(align = \"cc\", format = \"html\") %>%\n",
    "  as.character() %>%\n",
    "  display_html()"
   ]
  },
  {
   "cell_type": "markdown",
   "id": "7601bc39",
   "metadata": {},
   "source": [
    "Even though both dependence measures (Pearson and Kendall) are 0, there is actually deterministic dependence here (i.e., $X$ **determines** $Y$). Luckily, there are many monotonic relationships in practice, making Kendall's $\\tau_K$ a handy measure of dependence."
   ]
  },
  {
   "cell_type": "markdown",
   "id": "835b57c6",
   "metadata": {
    "editable": true,
    "slideshow": {
     "slide_type": ""
    },
    "tags": []
   },
   "source": [
    "#### 2.2.3. Mutual Information (Optional Section)\n",
    "\n",
    "Covariance and correlation measure the strength of dependence for numeric random variables, but what about categorical random variables? Back in {doc}`01_lecture-uncertainty`, we saw entropy {eq}`entropy-discrete` as a measure of spread that works even for categorical variables. If covariance is a (multivariate) generalization of variance, do we have a (multivariate) generalization of entropy? The answer is yes! And it is called **mutual information**.\n",
    "\n",
    "```{admonition} Definition of Mutual Information\n",
    ":class: tip\n",
    "The mutual information between two random variables $X$ and $Y$ is defined as\n",
    "\n",
    "$$H(X,Y) = \\displaystyle \\sum_x \\displaystyle \\sum_y P(X = x \\cap Y = y)\\log\\left[\\frac{P(X = x \\cap Y = y)}{P(X = x) \\cdot P(Y = y)}\\right].$$\n",
    "```\n",
    "\n",
    "```{admonition} Note\n",
    ":class: warning\n",
    "Later, you will also encounter **cross-entropy**, which is somewhat related to mutual information, except that it is not symmetric between $X$ and $Y$; that is $H(X , Y) \\neq H(Y,X)$. Again, when you get to your Machine Learning courses, the motivation for this will make more sense.\n",
    "```"
   ]
  },
  {
   "cell_type": "markdown",
   "id": "50ea77db",
   "metadata": {
    "editable": true,
    "slideshow": {
     "slide_type": ""
    },
    "tags": []
   },
   "source": [
    "### 2.3. Variance of a Sum Involving Two Non-Independent Random Variables\n",
    "\n",
    "Suppose **$X$ and $Y$ are not independent random variables**. Therefore, the variance of their sum is:\n",
    "\n",
    "```{math}\n",
    ":label: variance-dependent-sum\n",
    "\\operatorname{Var}(X + Y) = \\operatorname{Var}(X) + \\operatorname{Var}(Y) + 2\\operatorname{Cov}(X, Y).\n",
    "```\n",
    "\n",
    "Furthermore, **if $X$ and $Y$ are independent**, then \n",
    "\n",
    "```{math}\n",
    ":label: cross-independent\n",
    "\\mathbb{E}(XY) = \\mathbb{E}(X) \\mathbb{E}(Y).\n",
    "```\n",
    "\n",
    "Using Equation {eq}`cross-independent`, the covariance is \n",
    "```{math}\n",
    "\\begin{align*}\n",
    "\\operatorname{Cov}(X, Y) &=  \\mathbb{E}(XY) - \\left[ \\mathbb{E}(X)\\mathbb{E}(Y) \\right] \\\\\n",
    "&= \\left[ \\mathbb{E}(X) \\mathbb{E}(Y) \\right] - \\left[ \\mathbb{E}(X)\\mathbb{E}(Y) \\right] \\\\\n",
    "& = 0, \n",
    "\\end{align*}\n",
    "```\n",
    "and the sum {eq}`variance-dependent-sum` becomes:\n",
    "```{math}\n",
    "\\begin{align*}\n",
    "\\operatorname{Var}(X + Y) &= \\operatorname{Var}(X) + \\operatorname{Var}(Y).\n",
    "\\end{align*}\n",
    "```"
   ]
  }
 ],
 "metadata": {
  "celltoolbar": "Tags",
  "kernelspec": {
   "display_name": "R",
   "language": "R",
   "name": "ir"
  },
  "language_info": {
   "codemirror_mode": "r",
   "file_extension": ".r",
   "mimetype": "text/x-r-source",
   "name": "R",
   "pygments_lexer": "r",
   "version": "4.4.1"
  }
 },
 "nbformat": 4,
 "nbformat_minor": 5
}
