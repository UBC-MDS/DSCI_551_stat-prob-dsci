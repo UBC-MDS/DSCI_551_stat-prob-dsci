{
 "cells": [
  {
   "cell_type": "markdown",
   "id": "eedb02b7-fca9-4fe0-beea-aac06505bbc1",
   "metadata": {
    "editable": true,
    "slideshow": {
     "slide_type": ""
    },
    "tags": []
   },
   "source": [
    "# Lecture 8: Simulation"
   ]
  },
  {
   "cell_type": "markdown",
   "id": "5e6318ba-ac5f-4317-b83e-25cab3913867",
   "metadata": {
    "slideshow": {
     "slide_type": ""
    },
    "tags": []
   },
   "source": [
    "## Learning Goals\n",
    "\n",
    "- Generate a random sample from a discrete distribution in both `R` and `Python`.\n",
    "- Reproduce the same random sample each time you re-run your code in either `R` or `Python` by setting the seed or random state. \n",
    "- Evaluate whether or not a set of observations are independent and identically distributed (*iid*).\n",
    "- Use simulation to approximate distribution properties (e.g., mean and variance) using empirical quantities, especially for random variables involving multiple other random variables.\n",
    "- Argue why simulations can approximate true properties of a stochastic quantity."
   ]
  },
  {
   "cell_type": "markdown",
   "id": "65bbb5d3-ae57-4a91-8cf6-3cb1537cb960",
   "metadata": {
    "slideshow": {
     "slide_type": ""
    },
    "tags": []
   },
   "source": [
    "```{important} \n",
    "So far, we have seen many quantities that help us communicate an uncertain outcome:\n",
    "\n",
    "- Probability.\n",
    "- Probability mass function.\n",
    "- Odds.\n",
    "- Mode.\n",
    "- Entropy.\n",
    "- Mean.\n",
    "- Variance/standard deviation.\n",
    "\n",
    "Sometimes, it is not easy to compute these quantities in a given random process, system, or population of interest. We might have different random variables interacting, which poses challenges in the corresponding process of **estimation**. Therefore, in these situations, we can use **simulation** to approximate these and other quantities. This is today's topic. The notes will illustrate how to run basic simulations using either `R` or `Python`.\n",
    "```\n",
    "\n",
    "Specifically, we will use the `Python` packages [`numpy`](https://numpy.org/) and [`scipy.stats`](https://docs.scipy.org/doc/scipy/reference/stats.html):"
   ]
  },
  {
   "cell_type": "code",
   "execution_count": 1,
   "id": "4dafef15-b8b9-45e5-8bb4-33b3cd832f86",
   "metadata": {
    "slideshow": {
     "slide_type": ""
    },
    "tags": []
   },
   "outputs": [],
   "source": [
    "%load_ext rpy2.ipython\n",
    "\n",
    "import numpy as np\n",
    "import scipy.stats"
   ]
  },
  {
   "cell_type": "markdown",
   "id": "1a4cc59b-41a1-4c00-b145-a6fd4ac633fb",
   "metadata": {
    "slideshow": {
     "slide_type": ""
    },
    "tags": []
   },
   "source": [
    "Now, we load the necessary `R` packages:"
   ]
  },
  {
   "cell_type": "code",
   "execution_count": 2,
   "id": "9ae9ca19-c79d-4860-acdd-8df3eb60dfdb",
   "metadata": {
    "slideshow": {
     "slide_type": ""
    },
    "tags": [
     "remove-output"
    ]
   },
   "outputs": [
    {
     "name": "stdout",
     "output_type": "stream",
     "text": [
      "── Attaching core tidyverse packages ──────────────────────── tidyverse 2.0.0 ──\n",
      "✔ dplyr     1.1.4     ✔ readr     2.1.5\n",
      "✔ forcats   1.0.0     ✔ stringr   1.5.1\n",
      "✔ ggplot2   3.5.1     ✔ tibble    3.2.1\n",
      "✔ lubridate 1.9.3     ✔ tidyr     1.3.1\n",
      "✔ purrr     1.0.2     \n",
      "── Conflicts ────────────────────────────────────────── tidyverse_conflicts() ──\n",
      "✖ dplyr::filter() masks stats::filter()\n",
      "✖ dplyr::lag()    masks stats::lag()\n",
      "ℹ Use the conflicted package (<http://conflicted.r-lib.org/>) to force all conflicts to become errors\n"
     ]
    },
    {
     "data": {
      "text/plain": [
       "\n",
       "Attaching package: ‘testthat’\n",
       "\n",
       "The following object is masked from ‘package:dplyr’:\n",
       "\n",
       "    matches\n",
       "\n",
       "The following object is masked from ‘package:purrr’:\n",
       "\n",
       "    is_null\n",
       "\n",
       "The following objects are masked from ‘package:readr’:\n",
       "\n",
       "    edition_get, local_edition\n",
       "\n",
       "The following object is masked from ‘package:tidyr’:\n",
       "\n",
       "    matches\n",
       "\n",
       "\n",
       "Attaching package: ‘janitor’\n",
       "\n",
       "The following objects are masked from ‘package:stats’:\n",
       "\n",
       "    chisq.test, fisher.test\n",
       "\n"
      ]
     },
     "metadata": {},
     "output_type": "display_data"
    }
   ],
   "source": [
    "%%R \n",
    "\n",
    "library(tidyverse)\n",
    "library(lubridate)\n",
    "library(testthat)\n",
    "library(janitor)"
   ]
  },
  {
   "cell_type": "markdown",
   "id": "73e53e10-a47a-43c2-a3f5-da6f2feda5d3",
   "metadata": {
    "editable": true,
    "jp-MarkdownHeadingCollapsed": true,
    "slideshow": {
     "slide_type": ""
    },
    "tags": []
   },
   "source": [
    "## 1. Review on Random Samples\n",
    "\n",
    "From {doc}`07_lecture-maximum-likelihood-estimation`, we know that a **random sample** is a collection of random outcomes/variables. Using mathematical notation, a random sample of size $n$ is usually depicted as $X_1, \\ldots, X_n$. We think of data as being part of a random sample. \n",
    "\n",
    "Some examples of random samples are listed as follows: \n",
    "\n",
    "- The first five items you get in a game of Mario Kart ($n = 5$).\n",
    "- The outcomes of ten dice rolls ($n = 10$).\n",
    "- The daily high temperature in Vancouver for each day of the year ($n = 365$).\n",
    "\n",
    "Also, recall that **unless we make additional sampling assumptions**, a **default** random sample is said to be **independent and identically distributed** (or **iid**) if:\n",
    "\n",
    "1. Each pair of observations are independent, and\n",
    "2. each observation comes from the same distribution.\n",
    "\n",
    "Sometimes, when an outcome is said to be **random**, this can either mean the outcome has some distribution (**with non-zero entropy**) or the distribution with maximum entropy. To avoid confusion, the word **stochastic** refers to the former (as having some uncertain outcome). For example, if a die is weighted so that \"1\" appears very often, would you call this die \"random\"? Whether or not you do, it is always **stochastic**. \n",
    "The opposite of stochastic is **deterministic**: an outcome that will be known with 100% certainty."
   ]
  },
  {
   "cell_type": "markdown",
   "id": "0b4c5b08-1cc8-4822-bd4d-fc44a1e684ea",
   "metadata": {
    "editable": true,
    "slideshow": {
     "slide_type": ""
    },
    "tags": []
   },
   "source": [
    "## 2. Seeds\n",
    "\n",
    "Computers cannot actually generate truly random outcomes. Instead, they use something called [**pseudorandom numbers**](https://en.wikipedia.org/wiki/Pseudorandom_number_generator). As an example of a basic algorithm that produces pseudo-random numbers between 0 and 1, consider starting with your choice of number $x_0$ between $0$ and $1$, and iterating the following equation:\n",
    "\n",
    "$$x_{i+1} = 4 x_i (1 - x_i).$$\n",
    "\n",
    "The result will appear to be random numbers between $0$ and $1$. For example, here is the resulting sequence when we start with $x_0 = 0.3$ and iterate 1000 times:"
   ]
  },
  {
   "cell_type": "code",
   "execution_count": 3,
   "id": "c43de2e6-b82a-4c2a-9477-86f36870201f",
   "metadata": {
    "slideshow": {
     "slide_type": ""
    },
    "tags": [
     "remove-input"
    ]
   },
   "outputs": [
    {
     "data": {
      "image/png": "[encoded data removed]",
      "text/plain": [
       "<IPython.core.display.Image object>"
      ]
     },
     "metadata": {},
     "output_type": "display_data"
    }
   ],
   "source": [
    "%%R -w 800 -h 500\n",
    "\n",
    "n <- 1000\n",
    "x <- 0.3\n",
    "for (i in 1:n) x[i + 1] <- 4 * x[i] * (1 - x[i])\n",
    "suppressMessages(suppressWarnings(print(qplot(0:n, x) +\n",
    "  labs(\n",
    "    x = \"Iteration number\",\n",
    "    y = \"Function evaluation\"\n",
    "  ) +\n",
    "  theme_bw() +\n",
    "  theme(\n",
    "    plot.title = element_text(size = 17, face = \"bold\"),\n",
    "    axis.text = element_text(size = 16),\n",
    "    axis.title = element_text(size = 16, face = \"bold\"),\n",
    "    legend.title=element_text(size = 16, face = \"bold\"), \n",
    "    legend.text=element_text(size = 16)\n",
    "  ))))"
   ]
  },
  {
   "cell_type": "markdown",
   "id": "1a1cbcd7-cd7b-4662-902e-ce1a46e17d11",
   "metadata": {
    "slideshow": {
     "slide_type": ""
    },
    "tags": []
   },
   "source": [
    "Although this sequence is deterministic, it behaves like a random sample. But not entirely! All pseudorandom number generators have some pitfalls. In the case above, one pitfall is that **neighbouring pairs are not independent of each other** (by definition, of the way the sequence was set up!). However, some sophisticated algorithms produce outcomes that more closely resemble a random sample, so most of the time, we do not have to worry about the sample not being truly random.\n",
    "\n",
    "```{admonition} Definition of Seed\n",
    ":class: tip\n",
    "The **seed** (or **random state**) in a pseudo-random number generator is some pre-specified initial value that determines the generated sequence. \n",
    "\n",
    "As long as the seed remains the same, the resulting sample will also be the same. In the case above, this is $x_0 = 0.3$. In `R` and `Python`, if we do not explicitly set the seed, then the seed will be chosen for us.\n",
    "```\n",
    "\n",
    "In `R`, we can set the seed using the [`set.seed()`](https://www.statology.org/set-seed-in-r/) function, and in `Python`, using the [`numpy.random.seed()`](https://numpy.org/doc/stable/reference/random/generated/numpy.random.seed.html) function from `numpy`.\n",
    "\n",
    "```{important} \n",
    "The seed gives us an added advantage over truly random numbers: it allows our analysis to be **reproducible**! If we explicitly set a seed, then someone who re-runs the analysis will get the same results. \n",
    "```"
   ]
  },
  {
   "cell_type": "markdown",
   "id": "ae18e267-ca36-4abe-968d-9c841b524c66",
   "metadata": {
    "slideshow": {
     "slide_type": ""
    },
    "tags": []
   },
   "source": [
    "## 3. Generating Random Samples: Code\n",
    "\n",
    "We will look at some `R` and `Python` functions that help us generate a random sample. Note we are still focusing on discrete distributions here."
   ]
  },
  {
   "cell_type": "markdown",
   "id": "bbd71e1d-b36d-45ae-b1e0-992fb7482b83",
   "metadata": {
    "slideshow": {
     "slide_type": ""
    },
    "tags": []
   },
   "source": [
    "### 3.1. From Finite Number of Categories\n",
    "\n",
    "In `R`, we can generate a random sample from a **discrete distribution** with a finite number of outcomes using the [**`sample()` function**](https://www.rdocumentation.org/packages/base/versions/3.6.2/topics/sample). It works as follows:\n",
    "- Put the outcomes as a vector in the first argument, `x`.\n",
    "- Put the desired sample size in the argument `size`.\n",
    "- Put `replace = TRUE` **so that sampling can happen with replacement**.\n",
    "- Put the probabilities of the outcomes as a vector respective to `x` in the argument `prob`.\n",
    "\n",
    "```{important} \n",
    "If these probabilities do not add up to 1, `R` will not throw an error. Instead, `R` automatically adjusts the probabilities so that they add up to 1.\n",
    "```\n",
    "\n",
    "Here is an example of generating $n = 10$ items using the Mario Kart item distribution from {doc}`01_lecture-uncertainty`. Notice that the seed is set so that every time these lecture notes are rendered, the same results are obtained."
   ]
  },
  {
   "cell_type": "code",
   "execution_count": 4,
   "id": "f418a479-425e-4926-ba1f-99d6f8e118dc",
   "metadata": {
    "slideshow": {
     "slide_type": ""
    },
    "tags": []
   },
   "outputs": [],
   "source": [
    "%%R -o R_mario_sample\n",
    "\n",
    "set.seed(551)\n",
    "outcomes <- c(\"banana\", \"bob-omb\", \"coin\", \"horn\", \"shell\")\n",
    "probs <- c(0.12, 0.05, 0.75, 0.03, 0.05)\n",
    "n <- 10\n",
    "R_mario_sample <- sample(outcomes, size = n, replace = TRUE, prob = probs)"
   ]
  },
  {
   "cell_type": "code",
   "execution_count": 5,
   "id": "7ebd1725-d60e-4e00-9a73-73f6ba2415d0",
   "metadata": {
    "slideshow": {
     "slide_type": ""
    },
    "tags": []
   },
   "outputs": [
    {
     "data": {
      "text/plain": [
       "array(['banana', 'coin', 'coin', 'coin', 'coin', 'coin', 'coin', 'coin',\n",
       "       'coin', 'coin'], dtype='<U6')"
      ]
     },
     "execution_count": 5,
     "metadata": {},
     "output_type": "execute_result"
    }
   ],
   "source": [
    "# Showing R output in Python environment\n",
    "R_mario_sample"
   ]
  },
  {
   "cell_type": "markdown",
   "id": "5fa82933-b587-4e47-b8ee-20bbd350b65e",
   "metadata": {
    "slideshow": {
     "slide_type": ""
    },
    "tags": []
   },
   "source": [
    "In `Python`, we can generate a random sample from a discrete distribution using the [**`numpy.random.choice()` function**](https://numpy.org/doc/stable/reference/random/generated/numpy.random.choice.html). It works as follows:\n",
    "\n",
    "- Put the outcomes in the first argument, `a`.\n",
    "- Put the desired sample size in the argument `size`.\n",
    "- Put the probabilities of the outcomes respective to `x` in the argument `p`.\n",
    "\n",
    "Using the Mario Kart example again, we have the following:"
   ]
  },
  {
   "cell_type": "code",
   "execution_count": 6,
   "id": "53a8dfd4-5bb3-436b-be25-5d223a531648",
   "metadata": {
    "slideshow": {
     "slide_type": ""
    },
    "tags": []
   },
   "outputs": [
    {
     "data": {
      "text/plain": [
       "array(['coin', 'banana', 'coin', 'coin', 'coin', 'coin', 'coin', 'coin',\n",
       "       'coin', 'coin'], dtype='<U7')"
      ]
     },
     "execution_count": 6,
     "metadata": {},
     "output_type": "execute_result"
    }
   ],
   "source": [
    "# Python\n",
    "\n",
    "np.random.seed(551)\n",
    "outcomes = [\"banana\", \"bob-omb\", \"coin\", \"horn\", \"shell\"]\n",
    "probs = [0.12, 0.05, 0.75, 0.03, 0.05]\n",
    "n = 10\n",
    "np.random.choice(a = outcomes, size = n, p = probs)"
   ]
  },
  {
   "cell_type": "markdown",
   "id": "7cd99f56-337b-4ccf-8a23-b663b92d8f90",
   "metadata": {
    "slideshow": {
     "slide_type": ""
    },
    "tags": []
   },
   "source": [
    "```{important} \n",
    "In `numpy.random.choice()`, it is necessary that the probabilities in `prob` add up to 1.\n",
    "\n",
    "Moreover, note that both `R` and `Python` have their own algorithms to generate pseudorandom outcomes, **even though we provide the same seed**.\n",
    "```"
   ]
  },
  {
   "cell_type": "markdown",
   "id": "1541078a-5a2c-43b9-bafe-0eab3c2b6d01",
   "metadata": {
    "editable": true,
    "slideshow": {
     "slide_type": ""
    },
    "tags": []
   },
   "source": [
    "### 3.2. From Distribution Families\n",
    "\n",
    "In `R`, we can generate data from a distribution belonging to some parametric family using the `rdist()` function, where \"`dist`\" is replaced with a short form of the distribution family's name. We can access the corresponding probability mass function (PMF) or probability distribution function (PDF) with `ddist()`.\n",
    "In `Python`, we can use the `stats` module from the `scipy` library.\n",
    "\n",
    "{numref}`random-functions` summarizes the functions related to some of the discrete distribution families we have seen.\n",
    "\n",
    "```{list-table} Summary of Random Numbers Generators\n",
    ":header-rows: 1\n",
    ":name: random-functions\n",
    "\n",
    "* - Family\n",
    "  - `R` Function\n",
    "  - `Python` Function\n",
    "* - Binomial\n",
    "  - `rbinom()`\n",
    "  - `scipy.stats.binom.rvs()`\n",
    "* - Geometric\n",
    "  - `rgeom()`\n",
    "  - `scipy.stats.geom.rvs()`\n",
    "* - Negative Binomial\n",
    "  - `rnbinom()`\n",
    "  - `scipy.stats.nbinom.rvs()`\n",
    "* - Poisson\n",
    "  - `rpois()`\n",
    "  - `scipy.stats.poisson.rvs()`\n",
    "```\n",
    "\n",
    "The corresponding functions for continuous random variables can be found in {ref}`cont-r-functions`.\n",
    "We can use these functions as follows:\n",
    "\n",
    "- **Sample size $n$**: \n",
    "\t- For `R`, put this in the argument `n`, which comes first.\n",
    "\t- For `Python`, put this in the argument `size`, which comes last. \n",
    "- In both languages, each parameter has its own argument. Sometimes, like in `R`'s `rnbinom()`, there are more parameters than needed, giving the option of different parameterizations. Be sure only to specify the exact number of parameters required to isolate a member of the distribution family!\n",
    "\n",
    "Let us start with a **Binomial exercise**. We will obtain $n = 10$ random numbers from a Binomial distribution with probability of success $p = 0.6$ and 5 trials.\n",
    "\n",
    "```{important} \n",
    "Let us not confuse the random sample size $n$ (i.e., the number of Binomial random numbers in our sample, such as `n` in the `R` function) with the number of trials $n$ as a parameter of the standalone Binomial random variable (i.e., `size` in `rbinom()`).\n",
    "\n",
    "For `Python`, the Binomial parameter $n$ is actually depicted as `n` and `size` is the number of Binomial random numbers in our sample.\n",
    "```\n",
    "\n",
    "`R` function `rbinom()` generates these random numbers. In this case, the argument `prob` refers to $p$ and `n` for the desired amount of random numbers. The parameter $n$ of the Binomial distribution is referred to as `size`."
   ]
  },
  {
   "cell_type": "code",
   "execution_count": 7,
   "id": "30240a78-cdad-41f4-85ff-b8d7b7d87dca",
   "metadata": {
    "editable": true,
    "slideshow": {
     "slide_type": ""
    },
    "tags": []
   },
   "outputs": [],
   "source": [
    "%%R -o rbinom_output\n",
    "\n",
    "set.seed(551)\n",
    "rbinom_output <- rbinom(n = 10, size = 5, prob = 0.6)"
   ]
  },
  {
   "cell_type": "code",
   "execution_count": 8,
   "id": "cd659c3e-37cd-4d06-b606-f19d64057903",
   "metadata": {
    "slideshow": {
     "slide_type": ""
    },
    "tags": []
   },
   "outputs": [
    {
     "data": {
      "text/plain": [
       "array([2, 4, 3, 4, 2, 4, 5, 3, 4, 4], dtype=int32)"
      ]
     },
     "execution_count": 8,
     "metadata": {},
     "output_type": "execute_result"
    }
   ],
   "source": [
    "# Showing R output in Python environment\n",
    "rbinom_output"
   ]
  },
  {
   "cell_type": "markdown",
   "id": "cb6020d9-22f9-48d6-94c4-c69f919efe36",
   "metadata": {},
   "source": [
    "On the other hand, `Python` uses the argument `p` for $p$ and `size` for the desired amount of random numbers. The parameter $n$ of the Binomial distribution is referred to as `n`."
   ]
  },
  {
   "cell_type": "code",
   "execution_count": 9,
   "id": "00bcbe6a-2115-4a47-b053-73cf2c5d04d4",
   "metadata": {
    "slideshow": {
     "slide_type": ""
    },
    "tags": []
   },
   "outputs": [
    {
     "data": {
      "text/plain": [
       "array([3, 5, 3, 2, 2, 3, 4, 2, 2, 3])"
      ]
     },
     "execution_count": 9,
     "metadata": {},
     "output_type": "execute_result"
    }
   ],
   "source": [
    "# Python\n",
    "\n",
    "np.random.seed(551)\n",
    "scipy.stats.binom.rvs(n = 5, p = 0.6, size = 10)"
   ]
  },
  {
   "cell_type": "markdown",
   "id": "e90036b5-988d-450b-8c8e-782d96f71222",
   "metadata": {
    "slideshow": {
     "slide_type": ""
    },
    "tags": []
   },
   "source": [
    "Note that this is a particularly confusing example because `size` in the `R` code means the parameter $n$ of the Binomial distribution, whereas `size` in the Python code means the number of random samples, also known as the sample size, that you want it to generate.\n",
    "\n",
    "**Let us proceed with a Negative Binomial example.** The Negative Binomial family is an example of a function in `R` that allows different parameterizations. Suppose the following:\n",
    "\n",
    "$$X \\sim \\text{Negative Binomial} (k, p),$$\n",
    "\n",
    "where $X$ refers to the number of failures in independent successive Bernoulli trials before experiencing $k$ successes with probability $p$.\n",
    "\n",
    "`R` function `rnbinom()` generates `n` Negative Binomial-distributed random numbers with arguments `size` as $k = 5$ and `prob` as $p = 0.6$:"
   ]
  },
  {
   "cell_type": "code",
   "execution_count": 10,
   "id": "cf38310d-8d09-446e-ae4b-61c4598c531f",
   "metadata": {
    "slideshow": {
     "slide_type": ""
    },
    "tags": []
   },
   "outputs": [],
   "source": [
    "%%R -o rnbinom_output\n",
    "\n",
    "set.seed(551)\n",
    "rnbinom_output <- rnbinom(n = 10, size = 5, prob = 0.6)"
   ]
  },
  {
   "cell_type": "code",
   "execution_count": 11,
   "id": "ac4d062f-0c64-4df7-a8e3-dd5eae6a34c9",
   "metadata": {
    "slideshow": {
     "slide_type": ""
    },
    "tags": []
   },
   "outputs": [
    {
     "data": {
      "text/plain": [
       "array([5, 0, 2, 2, 2, 5, 4, 0, 4, 8], dtype=int32)"
      ]
     },
     "execution_count": 11,
     "metadata": {},
     "output_type": "execute_result"
    }
   ],
   "source": [
    "# Showing R output in Python environment\n",
    "rnbinom_output"
   ]
  },
  {
   "cell_type": "markdown",
   "id": "68073805-2ee6-4748-849d-7fd73b192a52",
   "metadata": {
    "slideshow": {
     "slide_type": ""
    },
    "tags": []
   },
   "source": [
    "Now let us check a second case using `rnbinom()`. Recall the expected value is\n",
    "```{math}\n",
    "\\mu = \\mathbb{E}(X) = \\frac{k(1 - p)}{p} = \\frac{5(1 - 0.6)}{0.6} = 3.33.\n",
    "```\n",
    "\n",
    "From {doc}`02_lecture-parametric-families`, we know that a distribution can also be parameterized with its corresponding mean. For a Negative Binomial-distributed random number, the argument `mu` `rnbinom()` refers to the expected value $\\mu$ from above. Hence, we either use `prob` or `mu` in the `rnbinom()` function. If we want to use `mu`, then we will need to provide the following:\n"
   ]
  },
  {
   "cell_type": "code",
   "execution_count": 12,
   "id": "c79026ec-11d9-4f16-bb31-562a84c34ac7",
   "metadata": {
    "slideshow": {
     "slide_type": ""
    },
    "tags": []
   },
   "outputs": [],
   "source": [
    "%%R -o rnbinom_output_mu\n",
    "\n",
    "set.seed(551)\n",
    "rnbinom_output_mu <- rnbinom(n = 10, size = 5, mu = 3.33)"
   ]
  },
  {
   "cell_type": "code",
   "execution_count": 13,
   "id": "124b052a-d206-4d7b-b9cc-0cf002dc9100",
   "metadata": {
    "slideshow": {
     "slide_type": ""
    },
    "tags": []
   },
   "outputs": [
    {
     "data": {
      "text/plain": [
       "array([5., 0., 2., 2., 2., 5., 4., 0., 4., 8.])"
      ]
     },
     "execution_count": 13,
     "metadata": {},
     "output_type": "execute_result"
    }
   ],
   "source": [
    "# Showing R output in Python environment\n",
    "rnbinom_output_mu"
   ]
  },
  {
   "cell_type": "markdown",
   "id": "e721b53b-53de-4fa1-9fdf-0771aac2ac69",
   "metadata": {
    "slideshow": {
     "slide_type": ""
    },
    "tags": []
   },
   "source": [
    "We get the same random numbers via the same seed!"
   ]
  },
  {
   "cell_type": "markdown",
   "id": "6988ebb8-2378-4047-aed4-31ce840f6d38",
   "metadata": {
    "editable": true,
    "slideshow": {
     "slide_type": ""
    },
    "tags": []
   },
   "source": [
    "```{exercise}\n",
    ":label: lecture8-q1\n",
    "\n",
    "Suppose you want to simulate hourly bank branch queues of customers. Historically, hourly queues show an average of 10 people. \n",
    "\n",
    "What distribution (including parametrization) and `R` random number generator will you use to simulate 20 random numbers?\n",
    "\n",
    "Select the correct option:\n",
    "\n",
    "**A.** $\\text{Poisson}(\\lambda = 1/10)$ with `rpois(n = 20, lambda = 1 / 10)`\n",
    "\n",
    "**B.** $\\text{Binomial}(n = 10, p = 1/10)$ with `rbinom(n = 20, size = 10, prob = 1 / 10)`\n",
    "\n",
    "**C.** $\\text{Poisson}(\\lambda = 10)$ with `rpois(n = 20, lambda = 10)`\n",
    "\n",
    "**D.** $\\text{Geometric}(p = 1/10)$ with `rgeom(n = 20, prob = 1 / 10)`\n",
    "```"
   ]
  },
  {
   "cell_type": "markdown",
   "id": "e5099e34-d7f7-4d05-972e-632b4584e211",
   "metadata": {},
   "source": [
    "```{exercise}\n",
    ":label: lecture8-q2\n",
    "\n",
    "During a random foodie tour, suppose you want to simulate the number of non-authentic Mexican restaurants you will try before encountering your very first authentic one in Vancouver. Overall, it is known that 70% of Mexican restaurants in Vancouver are considered non-authentic (but you do not have access to this list!).\n",
    "\n",
    "What distribution (including parametrization) and `R` random number generator will you use to simulate 15 random numbers?\n",
    "\n",
    "Select the correct option:\n",
    "\n",
    "**A.** $\\text{Binomial}(n = 15, p = 0.7)$ with `rbinom(n = 15, size = 15, prob = 0.7)`\n",
    "\n",
    "**B.** $\\text{Geometric}(p = 0.3)$ with `rgeom(n = 15, prob = 0.3)`\n",
    "\n",
    "**C.** $\\text{Binomial}(n = 15, p = 0.3)$ with `rbinom(n = 15, size = 15, prob = 0.3)`\n",
    "\n",
    "**B.** $\\text{Geometric}(p = 0.7)$ with `rgeom(n = 15, prob = 0.7)`\n",
    "```"
   ]
  },
  {
   "cell_type": "markdown",
   "id": "1ec6eab1-1bb2-4d13-8083-0f8bb84d3cac",
   "metadata": {
    "slideshow": {
     "slide_type": ""
    },
    "tags": []
   },
   "source": [
    "## 4. Running Simulations\n",
    "\n",
    "So far, we have seen two ways to calculate quantities that help us communicate uncertainty (like means and probabilities):\n",
    "1. The **distribution-based approach** (using the distribution), resulting in **true values**.\n",
    "2. The **empirical approach** (using data), resulting in **approximate values** that improve as the sample size increases (**i.e., the frequentist paradigm!**).\n",
    "\n",
    "For example, the **true** mean of a discrete random variable $X$ can be calculated as \n",
    "```{math}\n",
    "\\mathbb{E}(X) = \\sum_x x \\cdot P(X = x),\n",
    "```\n",
    "\n",
    "using each pair of outcome and outcome's probability, or can be approximated using the empirical approach from a random sample $X_1, \\ldots, X_n$ by \n",
    "```{math}\n",
    "\\mathbb{E}(X) \\approx \\frac{1}{n} \\sum_{i=1}^n X_i.\n",
    "```\n",
    "\n",
    "This means that we can approximate these quantities by generating a sample! An analysis that uses a randomly generated data set is called a **simulation**. "
   ]
  },
  {
   "cell_type": "markdown",
   "id": "bbd23337-ad73-4d29-b093-ab92992d9ffd",
   "metadata": {
    "jp-MarkdownHeadingCollapsed": true,
    "slideshow": {
     "slide_type": ""
    },
    "tags": []
   },
   "source": [
    "### 4.1. Code for Empirical Quantities\n",
    "\n",
    "Here are some hints for calculating empirical quantities using `R` functions for your reference. We will be going over these below in the next section:\n",
    "- `mean()` calculates the sample average\n",
    "\n",
    "```{math}\n",
    "\\bar{X} = \\frac{1}{n} \\sum_{i=1}^n X_i.\n",
    "```\n",
    "\n",
    "- `var()` calculates the sample variance (the $n - 1$ version, not $n$)\n",
    "```{math}\n",
    "S^2 = \\frac{1}{n-1} \\sum_{i=1}^n (X_i - \\bar{X})^2\n",
    "```\n",
    "\n",
    "- `sd()` its square root for the sample standard deviation.\n",
    "- `quantile()` calculates the empirical $p$-quantile, which is the $np$'th largest (rounded up) observation in a sample of size $n$.\n",
    "- For a single probability, remember that a mean is just an average. Just calculate the mean of a condition.\n",
    "- For an entire PMF, use the `table()` function, or more conveniently, the `janitor::tabyl()` function.\n",
    "- For the mode, either get it manually using the `table()` or `janitor::tabyl()` function, or you can use `DescTools::Mode()`."
   ]
  },
  {
   "cell_type": "markdown",
   "id": "57b3ebb9-449a-4536-a192-a03d5f7c426e",
   "metadata": {
    "slideshow": {
     "slide_type": ""
    },
    "tags": []
   },
   "source": [
    "### 4.2. Basic Simulation\n",
    "\n",
    "In Mexico City, consider a **random person** dating via **some given app** with a probability of having a successful date of $0.7$. Suppose we want to evaluate the success of this given app via the **number of failed dates** before they experience $5$ **successful dates**.\n",
    "\n",
    "``` {figure} img/angel.jpg\n",
    ":height: 500px\n",
    ":name: angel\n",
    "[The Angel of Independence](https://en.wikipedia.org/wiki/Angel_of_Independence), one of the most famous landmarks in Mexico City with a [Jacaranda tree](https://mexiconewsdaily.com/news/purple-spring-5-fun-facts-about-jacarandas/) closeup (photo by <a href=\"https://unsplash.com/@axelgarcia?utm_source=unsplash&utm_medium=referral&utm_content=creditCopyText\">Axel García</a> on <a href=\"https://unsplash.com/photos/yWgIfYgwVfA?utm_source=unsplash&utm_medium=referral&utm_content=creditCopyText\">Unsplash</a>)\n",
    "```\n",
    "\n",
    "We can translate the above inquiry as a random variable denoting failed dates has a Negative Binomial distribution:\n",
    "\n",
    "```{math}\n",
    "\\begin{gather*}\n",
    "X = \\text{Number of failed dates before experiencing 5 successful ones} \\\\\n",
    "X \\sim \\text{Negative Binomial} (k = 5, p = 0.7) \\quad \\text{for } x = 0, 1, 2, ...\n",
    "\\end{gather*}\n",
    "```\n",
    "\n",
    "Let us demonstrate both a distribution-based and empirical approach to compute the variance and PMF. First, let us obtain our random sample (of, say, $n = 10000$ observations)."
   ]
  },
  {
   "cell_type": "code",
   "execution_count": 14,
   "id": "1eff368e-41a6-46b2-aa67-c18212e4c6ac",
   "metadata": {
    "slideshow": {
     "slide_type": ""
    },
    "tags": []
   },
   "outputs": [],
   "source": [
    "%%R -o random_sample\n",
    "\n",
    "set.seed(551)\n",
    "k <- 5\n",
    "p <- 0.7\n",
    "n <- 10000\n",
    "random_sample <- rnbinom(n, size = k, prob = p)"
   ]
  },
  {
   "cell_type": "code",
   "execution_count": 15,
   "id": "13670713-7626-4cdc-95a6-d23da09fbc74",
   "metadata": {
    "slideshow": {
     "slide_type": ""
    },
    "tags": []
   },
   "outputs": [
    {
     "data": {
      "text/plain": [
       "array([3, 0, 1, ..., 1, 3, 4], dtype=int32)"
      ]
     },
     "execution_count": 15,
     "metadata": {},
     "output_type": "execute_result"
    }
   ],
   "source": [
    "# Python environment\n",
    "# Showing random numbers in vector random_sample\n",
    "random_sample"
   ]
  },
  {
   "cell_type": "markdown",
   "id": "40e79404-3036-4d18-a4f8-c0793262771b",
   "metadata": {
    "slideshow": {
     "slide_type": ""
    },
    "tags": []
   },
   "source": [
    "#### 4.2.1. Mean\n",
    "\n",
    "**Theoretically**, the mean of $X$ is\n",
    "```{math}\n",
    "\\mathbb{E}(X) = \\frac{k(1 - p)}{p}.\n",
    "```\n",
    "\n",
    "We compute it as follows:"
   ]
  },
  {
   "cell_type": "code",
   "execution_count": 16,
   "id": "71c35c0d-ef46-4cbd-b7b0-079dcd043719",
   "metadata": {
    "slideshow": {
     "slide_type": ""
    },
    "tags": []
   },
   "outputs": [
    {
     "name": "stdout",
     "output_type": "stream",
     "text": [
      "[1] 2.142857\n"
     ]
    }
   ],
   "source": [
    "%%R\n",
    "\n",
    "(k * (1 - p)) / p"
   ]
  },
  {
   "cell_type": "markdown",
   "id": "045c3d33-e38d-448d-a942-897a76423921",
   "metadata": {
    "slideshow": {
     "slide_type": ""
    },
    "tags": []
   },
   "source": [
    "**Empirically**, we can approximate $\\mathbb{E}(X)$ with the mean of the values in `random_sample`:"
   ]
  },
  {
   "cell_type": "code",
   "execution_count": 17,
   "id": "04e12da3-9ca2-4ea2-a93e-3aac46b328e3",
   "metadata": {
    "slideshow": {
     "slide_type": ""
    },
    "tags": []
   },
   "outputs": [
    {
     "name": "stdout",
     "output_type": "stream",
     "text": [
      "[1] 2.1696\n"
     ]
    }
   ],
   "source": [
    "%%R\n",
    "\n",
    "mean(random_sample)"
   ]
  },
  {
   "cell_type": "markdown",
   "id": "ca5788d1-39ff-409a-8cbd-cc80bc8cb55b",
   "metadata": {},
   "source": [
    "**Note the above empirical value is quite close to the theoretical one!**"
   ]
  },
  {
   "cell_type": "markdown",
   "id": "dea7506f-dca5-47f7-8fea-b8e29fa6e2de",
   "metadata": {
    "slideshow": {
     "slide_type": ""
    },
    "tags": []
   },
   "source": [
    "#### 4.2.2. Variance\n",
    "\n",
    "**Theoretically**, the variance of $X$ is\n",
    "\n",
    "```{math}\n",
    "\\text{Var}(X) = \\frac{k(1 - p)}{p^2}.\n",
    "```\n",
    "\n",
    "We compute it as follows:"
   ]
  },
  {
   "cell_type": "code",
   "execution_count": 18,
   "id": "2e0f16c7-51e0-4dce-a73b-50a4f93f0383",
   "metadata": {
    "slideshow": {
     "slide_type": ""
    },
    "tags": []
   },
   "outputs": [
    {
     "name": "stdout",
     "output_type": "stream",
     "text": [
      "[1] 3.061224\n"
     ]
    }
   ],
   "source": [
    "%%R\n",
    "\n",
    "(k * (1 - p)) / p^2"
   ]
  },
  {
   "cell_type": "markdown",
   "id": "ea80b510-29c0-4338-9549-23131a612860",
   "metadata": {
    "slideshow": {
     "slide_type": ""
    },
    "tags": []
   },
   "source": [
    "**Empirically**, we can approximate $\\text{Var}(X)$ with the sample variance of the values in `random_sample`:"
   ]
  },
  {
   "cell_type": "code",
   "execution_count": 19,
   "id": "08ac69bf-0918-421c-a9eb-fe6954433c7d",
   "metadata": {
    "slideshow": {
     "slide_type": ""
    },
    "tags": []
   },
   "outputs": [
    {
     "name": "stdout",
     "output_type": "stream",
     "text": [
      "[1] 3.170153\n"
     ]
    }
   ],
   "source": [
    "%%R\n",
    "\n",
    "var(random_sample)"
   ]
  },
  {
   "cell_type": "markdown",
   "id": "886a6996-4b99-454a-89e8-e22dff1aaba6",
   "metadata": {},
   "source": [
    "**Note the above empirical value is quite close to the theoretical one!**"
   ]
  },
  {
   "cell_type": "markdown",
   "id": "a2d35779-f757-47e0-b4d9-d2085c165be7",
   "metadata": {
    "slideshow": {
     "slide_type": ""
    },
    "tags": []
   },
   "source": [
    "#### 4.2.3. Standard deviation\n",
    "\n",
    "**Theoretically**, the standard deviation of $X$ is\n",
    "\n",
    "```{math}\n",
    "\\text{sd}(X) = \\sqrt{\\frac{k(1 - p)}{p^2}}.\n",
    "```"
   ]
  },
  {
   "cell_type": "markdown",
   "id": "3c57f0c4-c726-483b-804e-9bca2e6981df",
   "metadata": {
    "slideshow": {
     "slide_type": ""
    },
    "tags": []
   },
   "source": [
    "We compute it as follows:"
   ]
  },
  {
   "cell_type": "code",
   "execution_count": 20,
   "id": "922cb8bc-2b45-48d0-a164-10ab61992a74",
   "metadata": {
    "slideshow": {
     "slide_type": ""
    },
    "tags": []
   },
   "outputs": [
    {
     "name": "stdout",
     "output_type": "stream",
     "text": [
      "[1] 1.749636\n"
     ]
    }
   ],
   "source": [
    "%%R\n",
    "\n",
    "sqrt((1 - p) * k / p^2)"
   ]
  },
  {
   "cell_type": "markdown",
   "id": "563d0237-3ee0-4567-ab12-246e407d95ec",
   "metadata": {
    "slideshow": {
     "slide_type": ""
    },
    "tags": []
   },
   "source": [
    "**Empirically**, we can approximate $\\text{sd}(X)$ with the sample standard deviation of the values in `random_sample`:"
   ]
  },
  {
   "cell_type": "code",
   "execution_count": 21,
   "id": "68b3deeb-37e1-4c4e-a862-8d9e8785c75a",
   "metadata": {
    "slideshow": {
     "slide_type": ""
    },
    "tags": []
   },
   "outputs": [
    {
     "name": "stdout",
     "output_type": "stream",
     "text": [
      "[1] 1.780492\n"
     ]
    }
   ],
   "source": [
    "%%R\n",
    "\n",
    "sd(random_sample)"
   ]
  },
  {
   "cell_type": "markdown",
   "id": "c4e82d71-d516-4ff5-9056-b840dc2a5b70",
   "metadata": {},
   "source": [
    "**Note the above empirical value is quite close to the theoretical one!**"
   ]
  },
  {
   "cell_type": "markdown",
   "id": "693f3c83-a7c8-4a01-b54c-7df8a489b9ee",
   "metadata": {
    "slideshow": {
     "slide_type": ""
    },
    "tags": []
   },
   "source": [
    "#### 4.2.4. Probability of Seeing $0$ Failures (i.e., $0$ failed dates!)\n",
    "\n",
    "**Theoretically**, this probability can be computed as\n",
    "\n",
    "```{math}\n",
    "P(X = 0 \\mid k, p) = {k - 1 \\choose 0} p^k (1 - p)^x.\n",
    "```"
   ]
  },
  {
   "cell_type": "markdown",
   "id": "336bceb5-d6f3-4914-9e8f-0dd90636e006",
   "metadata": {
    "slideshow": {
     "slide_type": ""
    },
    "tags": []
   },
   "source": [
    "We can automatically compute this probability via the density function `dnbinom()` as follows:"
   ]
  },
  {
   "cell_type": "code",
   "execution_count": 22,
   "id": "fff16573-e557-4751-b318-a7f95a2c26f4",
   "metadata": {
    "slideshow": {
     "slide_type": ""
    },
    "tags": []
   },
   "outputs": [
    {
     "name": "stdout",
     "output_type": "stream",
     "text": [
      "[1] 0.16807\n"
     ]
    }
   ],
   "source": [
    "%%R\n",
    "\n",
    "dnbinom(x = 0, size = k, prob = p)"
   ]
  },
  {
   "cell_type": "markdown",
   "id": "04b646ef-bdab-40c2-bc78-81ec0b2f0ad8",
   "metadata": {
    "slideshow": {
     "slide_type": ""
    },
    "tags": []
   },
   "source": [
    "**Empirically**, we can approximate $P(X = 0 \\mid k, p)$ by counting the number of random numbers equal to $0$ in `random_sample` and dividing this count over the sample size $n = 10000$. We can quickly do this via logical values as follows:"
   ]
  },
  {
   "cell_type": "code",
   "execution_count": 23,
   "id": "22df1a39-21d3-4b0c-8bba-f2d781e1aba7",
   "metadata": {
    "slideshow": {
     "slide_type": ""
    },
    "tags": []
   },
   "outputs": [
    {
     "data": {
      "text/plain": [
       "array([3, 0, 1, ..., 1, 3, 4], dtype=int32)"
      ]
     },
     "execution_count": 23,
     "metadata": {},
     "output_type": "execute_result"
    }
   ],
   "source": [
    "# Python environment\n",
    "# Showing random numbers in vector random_sample\n",
    "random_sample"
   ]
  },
  {
   "cell_type": "code",
   "execution_count": 24,
   "id": "efa2e46c-7fb3-43ab-b0a1-2e749ba3fb7b",
   "metadata": {
    "slideshow": {
     "slide_type": ""
    },
    "tags": []
   },
   "outputs": [
    {
     "data": {
      "text/plain": [
       "array([False,  True, False, ..., False, False, False])"
      ]
     },
     "execution_count": 24,
     "metadata": {},
     "output_type": "execute_result"
    }
   ],
   "source": [
    "# Python environment\n",
    "# Showing logical values for condition \"== 0\"\n",
    "random_sample == 0"
   ]
  },
  {
   "cell_type": "code",
   "execution_count": 25,
   "id": "4a705ea0-e593-45a4-ba94-9856f66197a9",
   "metadata": {
    "slideshow": {
     "slide_type": ""
    },
    "tags": []
   },
   "outputs": [
    {
     "name": "stdout",
     "output_type": "stream",
     "text": [
      "[1] 0.1655\n"
     ]
    }
   ],
   "source": [
    "%%R\n",
    "\n",
    "# Using function mean() to empirically compute P(X = 0)\n",
    "mean(random_sample == 0) "
   ]
  },
  {
   "cell_type": "markdown",
   "id": "c2440cf2-da59-4eb3-bbdb-c2b272862160",
   "metadata": {
    "slideshow": {
     "slide_type": ""
    },
    "tags": []
   },
   "source": [
    "#### 4.2.5. Probability Mass Function\n",
    "\n",
    "Just as we did it with $P(X = 0 \\mid k, p)$, we can also do it for $P(X = i \\mid k, p)$ with $i = 1, 2, \\dots$ (i.e., **the whole PMF!**). Nonetheless, let us use functions from `tidyverse` and `tabyl()` from `janitor`. We will create a table containing columns for both approaches: **theoretical** (using `dnbinom()`) and **empirical** (using `random_sample`)."
   ]
  },
  {
   "cell_type": "code",
   "execution_count": 26,
   "id": "fc14e690-fa91-49c3-a9d1-1a70f1cb644b",
   "metadata": {
    "slideshow": {
     "slide_type": ""
    },
    "tags": []
   },
   "outputs": [],
   "source": [
    "%%R -o PMF\n",
    "\n",
    "PMF <- tabyl(random_sample) %>%\n",
    "  select(x = random_sample, Empirical = percent) %>%\n",
    "  mutate(Theoretical = dnbinom(x, size = k, prob = p))\n",
    "PMF <- PMF %>%\n",
    "  mutate(\n",
    "    Theoretical = round(Theoretical, 4),\n",
    "    Empirical = round(Empirical, 4)\n",
    "  )"
   ]
  },
  {
   "cell_type": "code",
   "execution_count": 27,
   "id": "db0e0bdb-1271-4420-8566-10c893993b68",
   "metadata": {
    "slideshow": {
     "slide_type": ""
    },
    "tags": []
   },
   "outputs": [
    {
     "data": {
      "text/html": [
       "<div>\n",
       "<style scoped>\n",
       "    .dataframe tbody tr th:only-of-type {\n",
       "        vertical-align: middle;\n",
       "    }\n",
       "\n",
       "    .dataframe tbody tr th {\n",
       "        vertical-align: top;\n",
       "    }\n",
       "\n",
       "    .dataframe thead th {\n",
       "        text-align: right;\n",
       "    }\n",
       "</style>\n",
       "<table border=\"1\" class=\"dataframe\">\n",
       "  <thead>\n",
       "    <tr style=\"text-align: right;\">\n",
       "      <th></th>\n",
       "      <th>x</th>\n",
       "      <th>Empirical</th>\n",
       "      <th>Theoretical</th>\n",
       "    </tr>\n",
       "  </thead>\n",
       "  <tbody>\n",
       "    <tr>\n",
       "      <th>1</th>\n",
       "      <td>0</td>\n",
       "      <td>0.1655</td>\n",
       "      <td>0.1681</td>\n",
       "    </tr>\n",
       "    <tr>\n",
       "      <th>2</th>\n",
       "      <td>1</td>\n",
       "      <td>0.2541</td>\n",
       "      <td>0.2521</td>\n",
       "    </tr>\n",
       "    <tr>\n",
       "      <th>3</th>\n",
       "      <td>2</td>\n",
       "      <td>0.2250</td>\n",
       "      <td>0.2269</td>\n",
       "    </tr>\n",
       "    <tr>\n",
       "      <th>4</th>\n",
       "      <td>3</td>\n",
       "      <td>0.1545</td>\n",
       "      <td>0.1588</td>\n",
       "    </tr>\n",
       "    <tr>\n",
       "      <th>5</th>\n",
       "      <td>4</td>\n",
       "      <td>0.0966</td>\n",
       "      <td>0.0953</td>\n",
       "    </tr>\n",
       "    <tr>\n",
       "      <th>6</th>\n",
       "      <td>5</td>\n",
       "      <td>0.0534</td>\n",
       "      <td>0.0515</td>\n",
       "    </tr>\n",
       "    <tr>\n",
       "      <th>7</th>\n",
       "      <td>6</td>\n",
       "      <td>0.0263</td>\n",
       "      <td>0.0257</td>\n",
       "    </tr>\n",
       "    <tr>\n",
       "      <th>8</th>\n",
       "      <td>7</td>\n",
       "      <td>0.0133</td>\n",
       "      <td>0.0121</td>\n",
       "    </tr>\n",
       "    <tr>\n",
       "      <th>9</th>\n",
       "      <td>8</td>\n",
       "      <td>0.0060</td>\n",
       "      <td>0.0055</td>\n",
       "    </tr>\n",
       "    <tr>\n",
       "      <th>10</th>\n",
       "      <td>9</td>\n",
       "      <td>0.0041</td>\n",
       "      <td>0.0024</td>\n",
       "    </tr>\n",
       "    <tr>\n",
       "      <th>11</th>\n",
       "      <td>10</td>\n",
       "      <td>0.0006</td>\n",
       "      <td>0.0010</td>\n",
       "    </tr>\n",
       "    <tr>\n",
       "      <th>12</th>\n",
       "      <td>11</td>\n",
       "      <td>0.0004</td>\n",
       "      <td>0.0004</td>\n",
       "    </tr>\n",
       "    <tr>\n",
       "      <th>13</th>\n",
       "      <td>12</td>\n",
       "      <td>0.0002</td>\n",
       "      <td>0.0002</td>\n",
       "    </tr>\n",
       "  </tbody>\n",
       "</table>\n",
       "</div>"
      ],
      "text/plain": [
       "     x  Empirical  Theoretical\n",
       "1    0     0.1655       0.1681\n",
       "2    1     0.2541       0.2521\n",
       "3    2     0.2250       0.2269\n",
       "4    3     0.1545       0.1588\n",
       "5    4     0.0966       0.0953\n",
       "6    5     0.0534       0.0515\n",
       "7    6     0.0263       0.0257\n",
       "8    7     0.0133       0.0121\n",
       "9    8     0.0060       0.0055\n",
       "10   9     0.0041       0.0024\n",
       "11  10     0.0006       0.0010\n",
       "12  11     0.0004       0.0004\n",
       "13  12     0.0002       0.0002"
      ]
     },
     "execution_count": 27,
     "metadata": {},
     "output_type": "execute_result"
    }
   ],
   "source": [
    "# Python environment\n",
    "# Showing PMF in a more Jupyter book-friendly format\n",
    "PMF"
   ]
  },
  {
   "cell_type": "markdown",
   "id": "040ac0e6-8424-4022-a827-2e81c5ecf37f",
   "metadata": {
    "slideshow": {
     "slide_type": ""
    },
    "tags": []
   },
   "source": [
    "**Note that both probability columns are similar!** \n",
    "\n",
    "Now, we can also plot both PMFs:"
   ]
  },
  {
   "cell_type": "code",
   "execution_count": 28,
   "id": "225b313e-4d1a-4e3a-8caf-dc51265d1b92",
   "metadata": {
    "slideshow": {
     "slide_type": ""
    },
    "tags": [
     "remove-input"
    ]
   },
   "outputs": [
    {
     "data": {
      "image/png": "[encoded data removed]",
      "text/plain": [
       "<IPython.core.display.Image object>"
      ]
     },
     "metadata": {},
     "output_type": "display_data"
    }
   ],
   "source": [
    "%%R -w 800 -h 500\n",
    "\n",
    "PMF %>%\n",
    "  gather(key = \"method\", value = \"Probability\", Empirical, Theoretical) %>%\n",
    "  ggplot(aes(x, Probability)) +\n",
    "  facet_wrap(~method) +\n",
    "  geom_col(fill = \"maroon\") +\n",
    "  theme_bw() +\n",
    "  theme(plot.title = element_text(size = 17, face = \"bold\"),\n",
    "    axis.text = element_text(size = 14),\n",
    "    axis.title = element_text(size = 16, face = \"bold\"),\n",
    "    strip.text.x = element_text(size = 17, face = \"bold\")) +\n",
    "  ggtitle(\"Comparison of Empirical and Theoretical PMFs\") +\n",
    "  scale_x_continuous(breaks = 0:12) +\n",
    "  scale_y_continuous(breaks = c(0, 0.05, 0.1, 0.15, 0.2, 0.25))"
   ]
  },
  {
   "cell_type": "markdown",
   "id": "688f88cc-e3d8-4e5e-82f5-ef32b90bc74b",
   "metadata": {
    "slideshow": {
     "slide_type": ""
    },
    "tags": []
   },
   "source": [
    "#### 4.2.6. Mode\n",
    "\n",
    "Recall the mode is the outcome of the random variable with the largest probability. From our previous plots, we can see that the mode is $X = 1$. We can confirm this as follows:"
   ]
  },
  {
   "cell_type": "code",
   "execution_count": 29,
   "id": "2d8e3337-40ba-4434-a165-93877fad8e76",
   "metadata": {
    "slideshow": {
     "slide_type": ""
    },
    "tags": []
   },
   "outputs": [
    {
     "name": "stdout",
     "output_type": "stream",
     "text": [
      "[1] 1\n"
     ]
    }
   ],
   "source": [
    "%%R\n",
    "\n",
    "## Theoretical\n",
    "PMF %>%\n",
    "  filter(Theoretical == max(Theoretical)) %>%\n",
    "  pull(x)"
   ]
  },
  {
   "cell_type": "code",
   "execution_count": 30,
   "id": "9c550609-213f-49d5-be20-5b1e5b6079d0",
   "metadata": {
    "slideshow": {
     "slide_type": ""
    },
    "tags": []
   },
   "outputs": [
    {
     "name": "stdout",
     "output_type": "stream",
     "text": [
      "[1] 1\n"
     ]
    }
   ],
   "source": [
    "%%R\n",
    "\n",
    "## Empirical\n",
    "PMF %>%\n",
    "  filter(Empirical == max(Empirical)) %>%\n",
    "  pull(x)"
   ]
  },
  {
   "cell_type": "markdown",
   "id": "e52407e4-c261-481f-89f6-9c7989588caa",
   "metadata": {
    "slideshow": {
     "slide_type": ""
    },
    "tags": []
   },
   "source": [
    "#### 4.2.7. Law of Large Numbers\n",
    "\n",
    "The Law of Large of Numbers states that, as we increase our sample size $n$, our empirical mean converges to the **true mean** we want to estimate. That is, as we increase our $n$, our **sample average** $\\bar{X}$ converges to the true mean $\\mu$.\n",
    "\n",
    "To demonstrate that a larger sample size improves the approximation of the empirical mean, let us see how this sample average changes as we collect more and more data. Given that\n",
    "\n",
    "```{math}\n",
    "X \\sim \\text{Negative Binomial} (k = 5, p = 0.7),\n",
    "```\n",
    "\n",
    "with\n",
    "\n",
    "```{math}\n",
    "\\mathbb{E}(X) = \\frac{k(1 - p)}{p} = 2.14.\n",
    "```\n",
    "\n",
    "The plot below shows that, as we increase our sample size $n$ of simulated random numbers, their corresponding empirical mean (i.e., **sample average**) converges to the $\\mathbb{E}(X) = 2.14$ (horizontal dashed line) depicted as a red line."
   ]
  },
  {
   "cell_type": "code",
   "execution_count": 31,
   "id": "9ca8276d-5f97-4a94-ae12-50e43ed93b24",
   "metadata": {
    "editable": true,
    "slideshow": {
     "slide_type": ""
    },
    "tags": [
     "remove-input"
    ]
   },
   "outputs": [
    {
     "data": {
      "image/png": "[encoded data removed]",
      "text/plain": [
       "<IPython.core.display.Image object>"
      ]
     },
     "metadata": {},
     "output_type": "display_data"
    }
   ],
   "source": [
    "%%R -w 800 -h 500\n",
    "\n",
    "suppressWarnings(print(tibble(\n",
    "  i = 1:n,\n",
    "  mean = cumsum(random_sample) / i\n",
    ") %>%\n",
    "  ggplot(aes(i, mean)) +\n",
    "  geom_hline(\n",
    "    yintercept = (1 - p) * k / p,\n",
    "    colour = \"maroon\", linetype = \"dashed\", size = 0.75\n",
    "  ) +\n",
    "  geom_line() +\n",
    "  labs(\n",
    "    x = \"Sample Size\",\n",
    "    y = \"Empirical Mean\"\n",
    "  ) +\n",
    "  theme_bw() +\n",
    "  theme(plot.title = element_text(size = 17, face = \"bold\"),\n",
    "    axis.text = element_text(size = 16),\n",
    "    axis.title = element_text(size = 16, face = \"bold\"),\n",
    "    strip.text.x = element_text(size = 17, face = \"bold\")) +\n",
    "  ggtitle(\"Evolution of Empirical Mean as Sample Size is Increased\") +\n",
    "  scale_y_continuous(breaks = seq(0, 3, 0.25)) +\n",
    "  scale_x_continuous(breaks = seq(0, 10000, 1000))))"
   ]
  },
  {
   "cell_type": "markdown",
   "id": "f8c6230f-7e43-4eae-8a76-1398a3f1d255",
   "metadata": {
    "editable": true,
    "slideshow": {
     "slide_type": ""
    },
    "tags": [
     "remove-input"
    ]
   },
   "source": [
    "## 5. Multi-Step Simulations\n",
    "\n",
    "The simulation above was not all that useful, since we could calculate basically anything (theoretically speaking!). It gets more interesting when we want to calculate things for a random variable that transforms and/or combines multiple random variables.\n",
    "\n",
    "The idea is that some random variables will have a distribution that depends on other random variables but in a way that is explicit. For example, consider a random variable $T$ that we can obtain as follows: \n",
    "\n",
    "```{math}\n",
    "X \\sim \\text{Poisson}(\\lambda = 5), \n",
    "```\n",
    "\n",
    "and then \n",
    "```{math}\n",
    "T = \\sum_{i = 1}^{X} D_i,\n",
    "```\n",
    "\n",
    "where each $D_i$ are *iid* with some **specified distribution**. In this case, to generate $T$, you would first need to generate $X$, then generate $X$ values of $D_i$, then sum those up to get $T$. This is the example we will see here, but in general, you can have any number of dependencies, each component of which you would have to generate.\n",
    "\n",
    "``` {figure} img/ship.png\n",
    ":height: 350px\n",
    ":name: ship\n",
    "A cargo ship\n",
    "```\n",
    "\n",
    "Consider an example that a Vancouver port faces with **gang demand**. Whenever a ship arrives to the port of Vancouver, they request a certain number of **gangs** (groups of people) to help unload the ship. Let us suppose the number of gangs requested by a ship has the following **discrete distribution** (i.e., a PMF):"
   ]
  },
  {
   "cell_type": "code",
   "execution_count": 32,
   "id": "c913f02c-222b-48af-8c96-e8394a702a79",
   "metadata": {
    "editable": true,
    "slideshow": {
     "slide_type": ""
    },
    "tags": [
     "remove-input"
    ]
   },
   "outputs": [
    {
     "data": {
      "image/png": "[encoded data removed]",
      "text/plain": [
       "<IPython.core.display.Image object>"
      ]
     },
     "metadata": {},
     "output_type": "display_data"
    }
   ],
   "source": [
    "%%R -w 800 -h 500\n",
    "\n",
    "gang <- 1:4\n",
    "p <- c(0.2, 0.4, 0.3, 0.1)\n",
    "\n",
    "tibble(\n",
    "  gangs = gang,\n",
    "  p     = p\n",
    ") %>%\n",
    "  ggplot(aes(gangs, p)) +\n",
    "  geom_col(fill = \"palegreen3\") +\n",
    "  labs(\n",
    "    x = \"Number of Gangs\",\n",
    "    y = \"Probability\"\n",
    "  ) +\n",
    "  theme_bw() +\n",
    "  theme(plot.title = element_text(size = 17, face = \"bold\"),\n",
    "    axis.text = element_text(size = 16),\n",
    "    axis.title = element_text(size = 16, face = \"bold\"),\n",
    "    strip.text.x = element_text(size = 17, face = \"bold\")) +\n",
    "  ggtitle(\"PMF of Number of Gangs\")"
   ]
  },
  {
   "cell_type": "markdown",
   "id": "defd527a-def2-4d7e-8634-5a53123950d2",
   "metadata": {
    "slideshow": {
     "slide_type": ""
    },
    "tags": []
   },
   "source": [
    "The following function sums up simulated gangs requested by a certain number of ships with the above probability distribution as a default:"
   ]
  },
  {
   "cell_type": "code",
   "execution_count": 33,
   "id": "de8ae8d3-7810-4ce5-a62a-ddafcd6832c3",
   "metadata": {
    "slideshow": {
     "slide_type": ""
    },
    "tags": []
   },
   "outputs": [
    {
     "name": "stdout",
     "output_type": "stream",
     "text": [
      "Test passed 🌈\n"
     ]
    }
   ],
   "source": [
    "%%R\n",
    "\n",
    "#' Generate gang demand\n",
    "#'\n",
    "#' Simulates the GRAND TOTAL number of gangs requested, if each ship\n",
    "#' requests a random number of gangs.\n",
    "#' \n",
    "#' @param n_ships Number of ships that are making demands.\n",
    "#' @param gangs Possible gang demands made by a ship.\n",
    "#' @param prob Probabilities of gang demand corresponding to \"gangs.\"\n",
    "#' \n",
    "#' @return Number representing the total gang demand \n",
    "demand_gangs <- function(n_ships, gangs = gang, prob = p) {\n",
    "  if (length(gangs) == 1) {\n",
    "    gangs <- c(gangs, gangs)\n",
    "    prob <- c(1, 1)\n",
    "  }\n",
    "  requests <- sample(\n",
    "    gangs,\n",
    "    size = n_ships,\n",
    "    replace = TRUE,\n",
    "    prob = prob\n",
    "  )\n",
    "  sum(requests)\n",
    "}\n",
    "\n",
    "# Testing our function (a Data Science-standard!)\n",
    "test_that(\"demand_gangs output is as expected\", {\n",
    "  expect_identical(demand_gangs(0), 0L)\n",
    "  expect_gte(demand_gangs(1), min(gang))\n",
    "  expect_lte(demand_gangs(1), max(gang))\n",
    "  expect_gte(demand_gangs(10), 10 * min(gang))\n",
    "  expect_lte(demand_gangs(10), 10 * max(gang))\n",
    "  expect_identical(length(demand_gangs(10)), 1L)\n",
    "  expect_identical(demand_gangs(10, gangs = 2, prob = 1), 20)\n",
    "})"
   ]
  },
  {
   "cell_type": "markdown",
   "id": "88d9adac-d408-498f-850c-5f8f6da45f9c",
   "metadata": {
    "slideshow": {
     "slide_type": ""
    },
    "tags": []
   },
   "source": [
    "As an example, let us check out the simulated **grand total gang request** from 10 ships:"
   ]
  },
  {
   "cell_type": "code",
   "execution_count": 34,
   "id": "cda357ba-bfe9-4b94-b48b-f34e82974d8f",
   "metadata": {
    "slideshow": {
     "slide_type": ""
    },
    "tags": []
   },
   "outputs": [
    {
     "name": "stdout",
     "output_type": "stream",
     "text": [
      "[1] 20\n"
     ]
    }
   ],
   "source": [
    "%%R\n",
    "\n",
    "set.seed(551)\n",
    "demand_gangs(n_ships = 10)"
   ]
  },
  {
   "cell_type": "markdown",
   "id": "c9fd1f43-45c9-4b6e-b1fd-0ccca499b28c",
   "metadata": {
    "editable": true,
    "slideshow": {
     "slide_type": ""
    },
    "tags": [
     "remove-input"
    ]
   },
   "source": [
    "Suppose the number of ships arriving on a given day follows the Poisson distribution with a mean of $\\lambda = 5 \\text{ ships}$. Now, this is our main statistical inquiry: **what is the distribution of total gang requests on a given day?** \n",
    "\n",
    "Let us simulate the process to find out:\n",
    "\n",
    "1. Generate arrival quantities for $n$ days from the $\\text{Poisson}(\\lambda = 5 \\text{ ships})$ distribution.\n",
    "2. For each day, simulate **the grand total gang request** for the simulated number of ships.\n",
    "3. You now have your random sample of size $n$ -- compute things as you normally would.\n",
    "\n",
    "We will try this by obtaining **a sample of $n = 10000$ days**:"
   ]
  },
  {
   "cell_type": "code",
   "execution_count": 35,
   "id": "be83c96e-04bc-4205-80c4-b047541fe792",
   "metadata": {
    "editable": true,
    "slideshow": {
     "slide_type": ""
    },
    "tags": []
   },
   "outputs": [],
   "source": [
    "%%R -o simulation_outputs\n",
    "\n",
    "n_days <- 10000\n",
    "\n",
    "# Setting global seed!\n",
    "set.seed(551)\n",
    "\n",
    "## Step 1: generate a bunch of ships arriving each day.\n",
    "arrivals <- rpois(n_days, lambda = 5)\n",
    "\n",
    "## Step 2: Simulate the grand total gang request on each day.\n",
    "total_requests <- purrr::map_int(arrivals, demand_gangs)\n",
    "\n",
    "## Step 3: Compute mean and variance.\n",
    "simulation_outputs <- tibble(\n",
    "  mean = mean(total_requests),\n",
    "  variance = var(total_requests)\n",
    ")"
   ]
  },
  {
   "cell_type": "code",
   "execution_count": 36,
   "id": "85c74274-7f2d-4f53-a8ea-64b28e49ff43",
   "metadata": {
    "editable": true,
    "slideshow": {
     "slide_type": ""
    },
    "tags": []
   },
   "outputs": [
    {
     "data": {
      "text/html": [
       "<div>\n",
       "<style scoped>\n",
       "    .dataframe tbody tr th:only-of-type {\n",
       "        vertical-align: middle;\n",
       "    }\n",
       "\n",
       "    .dataframe tbody tr th {\n",
       "        vertical-align: top;\n",
       "    }\n",
       "\n",
       "    .dataframe thead th {\n",
       "        text-align: right;\n",
       "    }\n",
       "</style>\n",
       "<table border=\"1\" class=\"dataframe\">\n",
       "  <thead>\n",
       "    <tr style=\"text-align: right;\">\n",
       "      <th></th>\n",
       "      <th>mean</th>\n",
       "      <th>variance</th>\n",
       "    </tr>\n",
       "  </thead>\n",
       "  <tbody>\n",
       "    <tr>\n",
       "      <th>1</th>\n",
       "      <td>11.5393</td>\n",
       "      <td>31.650421</td>\n",
       "    </tr>\n",
       "  </tbody>\n",
       "</table>\n",
       "</div>"
      ],
      "text/plain": [
       "      mean   variance\n",
       "1  11.5393  31.650421"
      ]
     },
     "execution_count": 36,
     "metadata": {},
     "output_type": "execute_result"
    }
   ],
   "source": [
    "# Python environment\n",
    "# Showing simulation outputs in a more Jupyter book-friendly format\n",
    "simulation_outputs"
   ]
  },
  {
   "cell_type": "markdown",
   "id": "899bbc15-420b-4098-be16-27f8319d5434",
   "metadata": {
    "editable": true,
    "slideshow": {
     "slide_type": ""
    },
    "tags": [
     "remove-input"
    ]
   },
   "source": [
    "From our 10,000 replicates, the summary statistics above indicate that **we typically expect a demand of 11.5393 gangs on a given day in the whole port**.\n",
    "\n",
    "Nonetheless, **our distribution is slightly right-skewed**, meaning that gang demand leans towards less than this mean. We can check it out by plotting our simulation results stored in `total_requests` (**mean gang request is indicated as a solid vertical blue line**):"
   ]
  },
  {
   "cell_type": "code",
   "execution_count": 37,
   "id": "337011d8-cc30-4a79-a6ec-910997b113e4",
   "metadata": {
    "slideshow": {
     "slide_type": ""
    },
    "tags": [
     "remove-input"
    ]
   },
   "outputs": [
    {
     "data": {
      "image/png": "[encoded data removed]",
      "text/plain": [
       "<IPython.core.display.Image object>"
      ]
     },
     "metadata": {},
     "output_type": "display_data"
    }
   ],
   "source": [
    "%%R -w 800 -h 500\n",
    "\n",
    "total_requests <- data.frame(sim = total_requests)\n",
    "\n",
    "ggplot(total_requests, aes(sim)) +\n",
    "  geom_bar(fill = \"orange\") +\n",
    "  labs(\n",
    "    x = \"Number of Gangs\",\n",
    "    y = \"Counts\"\n",
    "  ) +\n",
    "  theme_bw() +\n",
    "  theme(plot.title = element_text(size = 17, face = \"bold\"),\n",
    "    axis.text = element_text(size = 16),\n",
    "    axis.title = element_text(size = 16, face = \"bold\"),\n",
    "    strip.text.x = element_text(size = 17, face = \"bold\")) +\n",
    "  ggtitle(\"Simulation Results\") +\n",
    "  scale_x_continuous(breaks = seq(0, 40, 5)) +\n",
    "  geom_vline(xintercept = 11.5393, color = \"blue\", size = 1.5)"
   ]
  }
 ],
 "metadata": {
  "kernelspec": {
   "display_name": "Python 3 (ipykernel)",
   "language": "python",
   "name": "python3"
  },
  "language_info": {
   "codemirror_mode": {
    "name": "ipython",
    "version": 3
   },
   "file_extension": ".py",
   "mimetype": "text/x-python",
   "name": "python",
   "nbconvert_exporter": "python",
   "pygments_lexer": "ipython3",
   "version": "3.11.9"
  }
 },
 "nbformat": 4,
 "nbformat_minor": 5
}
